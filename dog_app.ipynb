{
 "cells": [
  {
   "cell_type": "markdown",
   "metadata": {},
   "source": [
    "# Data Scientist Nanodegree\n",
    "\n",
    "## Convolutional Neural Networks\n",
    "\n",
    "## Project: Write an Algorithm for a Dog Identification App \n",
    "\n",
    "\n",
    "This notebook walks you through one of the most popular Udacity projects across machine learning and artificial intellegence nanodegree programs.  The goal is to classify images of dogs according to their breed.  \n",
    "\n",
    "If you are looking for a more guided capstone project related to deep learning and convolutional neural networks, this might be just it.  Notice that even if you follow the notebook to creating your classifier, you must still create a blog post or deploy an application to fulfill the requirements of the capstone project.\n",
    "\n",
    "Also notice, you may be able to use only parts of this notebook (for example certain coding portions or the data) without completing all parts and still meet all requirements of the capstone project.\n",
    "\n",
    "---\n",
    "\n",
    "In this notebook, some template code has already been provided for you, and you will need to implement additional functionality to successfully complete this project. You will not need to modify the included code beyond what is requested. Sections that begin with **'(IMPLEMENTATION)'** in the header indicate that the following block of code will require additional functionality which you must provide. Instructions will be provided for each section, and the specifics of the implementation are marked in the code block with a 'TODO' statement. Please be sure to read the instructions carefully! \n",
    "\n",
    "In addition to implementing code, there will be questions that you must answer which relate to the project and your implementation. Each section where you will answer a question is preceded by a **'Question X'** header. Carefully read each question and provide thorough answers in the following text boxes that begin with **'Answer:'**. Your project submission will be evaluated based on your answers to each of the questions and the implementation you provide.\n",
    "\n",
    ">**Note:** Code and Markdown cells can be executed using the **Shift + Enter** keyboard shortcut.  Markdown cells can be edited by double-clicking the cell to enter edit mode.\n",
    "\n",
    "The rubric contains _optional_ \"Stand Out Suggestions\" for enhancing the project beyond the minimum requirements. If you decide to pursue the \"Stand Out Suggestions\", you should include the code in this IPython notebook.\n",
    "\n",
    "\n",
    "\n",
    "---\n",
    "### Why We're Here \n",
    "\n",
    "In this notebook, you will make the first steps towards developing an algorithm that could be used as part of a mobile or web app.  At the end of this project, your code will accept any user-supplied image as input.  If a dog is detected in the image, it will provide an estimate of the dog's breed.  If a human is detected, it will provide an estimate of the dog breed that is most resembling.  The image below displays potential sample output of your finished project (... but we expect that each student's algorithm will behave differently!). \n",
    "\n",
    "![Sample Dog Output](images/sample_dog_output.png)\n",
    "\n",
    "In this real-world setting, you will need to piece together a series of models to perform different tasks; for instance, the algorithm that detects humans in an image will be different from the CNN that infers dog breed.  There are many points of possible failure, and no perfect algorithm exists.  Your imperfect solution will nonetheless create a fun user experience!\n",
    "\n",
    "### The Road Ahead\n",
    "\n",
    "We break the notebook into separate steps.  Feel free to use the links below to navigate the notebook.\n",
    "\n",
    "* [Step 0](#step0): Import Datasets\n",
    "* [Step 1](#step1): Detect Humans\n",
    "* [Step 2](#step2): Detect Dogs\n",
    "* [Step 3](#step3): Create a CNN to Classify Dog Breeds (from Scratch)\n",
    "* [Step 4](#step4): Use a CNN to Classify Dog Breeds (using Transfer Learning)\n",
    "* [Step 5](#step5): Create a CNN to Classify Dog Breeds (using Transfer Learning)\n",
    "* [Step 6](#step6): Write your Algorithm\n",
    "* [Step 7](#step7): Test Your Algorithm\n",
    "\n",
    "---\n",
    "<a id='step0'></a>\n",
    "## Step 0: Import Datasets\n",
    "\n",
    "### Import Dog Dataset\n",
    "\n",
    "In the code cell below, we import a dataset of dog images.  We populate a few variables through the use of the `load_files` function from the scikit-learn library:\n",
    "- `train_files`, `valid_files`, `test_files` - numpy arrays containing file paths to images\n",
    "- `train_targets`, `valid_targets`, `test_targets` - numpy arrays containing onehot-encoded classification labels \n",
    "- `dog_names` - list of string-valued dog breed names for translating labels"
   ]
  },
  {
   "cell_type": "code",
   "execution_count": 4,
   "metadata": {},
   "outputs": [
    {
     "name": "stdout",
     "output_type": "stream",
     "text": [
      "There are 133 total dog categories.\n",
      "There are 8351 total dog images.\n",
      "There are 6680 training dog images.\n",
      "There are 835 validation dog images.\n",
      "There are 836 test dog images.\n"
     ]
    }
   ],
   "source": [
    "from glob import glob\n",
    "\n",
    "import numpy as np\n",
    "from sklearn.datasets import load_files\n",
    "from keras.utils import np_utils\n",
    "\n",
    "# define function to load train, test, and validation datasets\n",
    "\n",
    "def load_dataset(path):\n",
    "    \"\"\"\n",
    "    This function loads dataset for dog breeds project\n",
    "\n",
    "    Parameter:\n",
    "    path: the path of the dog breeds project dataset\n",
    "\n",
    "    Returns:\n",
    "    dog_files:   numpy arrays containing file paths to images\n",
    "    dog_targets: numpy arrays containing onehot-encoded classification labels\n",
    "    \"\"\"\n",
    "    data = load_files(path)\n",
    "    dog_files = np.array(data['filenames'])\n",
    "    dog_targets = np_utils.to_categorical(np.array(data['target']), 133)\n",
    "    return dog_files, dog_targets\n",
    "\n",
    "\n",
    "# load train, test, and validation datasets\n",
    "train_files, train_targets = load_dataset('data/dog_images/train')\n",
    "valid_files, valid_targets = load_dataset('data/dog_images/valid')\n",
    "test_files, test_targets = load_dataset('data/dog_images/test')\n",
    "\n",
    "# load list of dog names\n",
    "dog_names = [item[20:-1] for item in sorted(glob(\"data/dog_images/train/*/\"))]\n",
    "\n",
    "# print statistics about the dataset\n",
    "print(f'There are {len(dog_names):d} total dog categories.' )\n",
    "print(f'There are {len(np.hstack([train_files, valid_files, test_files]))} '\n",
    "      f'total dog images.' )\n",
    "print(f'There are {len(train_files):d} training dog images.' )\n",
    "print(f'There are {len(valid_files):d} validation dog images.' )\n",
    "print(f'There are {len(test_files):d} test dog images.' )"
   ]
  },
  {
   "cell_type": "code",
   "execution_count": 5,
   "metadata": {},
   "outputs": [],
   "source": [
    "# Export the dog_names list to csv to use in the app and to avoid upload huge\n",
    "# dog_files to Udacity Workspace IDE for model training\n",
    "import numpy as np\n",
    "np.savetxt(\"data/dog_names.csv\", dog_names, delimiter=\",\", fmt='%s')"
   ]
  },
  {
   "cell_type": "code",
   "execution_count": 6,
   "metadata": {},
   "outputs": [
    {
     "data": {
      "text/plain": [
       "['n\\\\001.Affenpinscher',\n",
       " 'n\\\\002.Afghan_hound',\n",
       " 'n\\\\003.Airedale_terrier',\n",
       " 'n\\\\004.Akita',\n",
       " 'n\\\\005.Alaskan_malamute',\n",
       " 'n\\\\006.American_eskimo_dog',\n",
       " 'n\\\\007.American_foxhound',\n",
       " 'n\\\\008.American_staffordshire_terrier',\n",
       " 'n\\\\009.American_water_spaniel',\n",
       " 'n\\\\010.Anatolian_shepherd_dog',\n",
       " 'n\\\\011.Australian_cattle_dog',\n",
       " 'n\\\\012.Australian_shepherd',\n",
       " 'n\\\\013.Australian_terrier',\n",
       " 'n\\\\014.Basenji',\n",
       " 'n\\\\015.Basset_hound',\n",
       " 'n\\\\016.Beagle',\n",
       " 'n\\\\017.Bearded_collie',\n",
       " 'n\\\\018.Beauceron',\n",
       " 'n\\\\019.Bedlington_terrier',\n",
       " 'n\\\\020.Belgian_malinois',\n",
       " 'n\\\\021.Belgian_sheepdog',\n",
       " 'n\\\\022.Belgian_tervuren',\n",
       " 'n\\\\023.Bernese_mountain_dog',\n",
       " 'n\\\\024.Bichon_frise',\n",
       " 'n\\\\025.Black_and_tan_coonhound',\n",
       " 'n\\\\026.Black_russian_terrier',\n",
       " 'n\\\\027.Bloodhound',\n",
       " 'n\\\\028.Bluetick_coonhound',\n",
       " 'n\\\\029.Border_collie',\n",
       " 'n\\\\030.Border_terrier',\n",
       " 'n\\\\031.Borzoi',\n",
       " 'n\\\\032.Boston_terrier',\n",
       " 'n\\\\033.Bouvier_des_flandres',\n",
       " 'n\\\\034.Boxer',\n",
       " 'n\\\\035.Boykin_spaniel',\n",
       " 'n\\\\036.Briard',\n",
       " 'n\\\\037.Brittany',\n",
       " 'n\\\\038.Brussels_griffon',\n",
       " 'n\\\\039.Bull_terrier',\n",
       " 'n\\\\040.Bulldog',\n",
       " 'n\\\\041.Bullmastiff',\n",
       " 'n\\\\042.Cairn_terrier',\n",
       " 'n\\\\043.Canaan_dog',\n",
       " 'n\\\\044.Cane_corso',\n",
       " 'n\\\\045.Cardigan_welsh_corgi',\n",
       " 'n\\\\046.Cavalier_king_charles_spaniel',\n",
       " 'n\\\\047.Chesapeake_bay_retriever',\n",
       " 'n\\\\048.Chihuahua',\n",
       " 'n\\\\049.Chinese_crested',\n",
       " 'n\\\\050.Chinese_shar-pei',\n",
       " 'n\\\\051.Chow_chow',\n",
       " 'n\\\\052.Clumber_spaniel',\n",
       " 'n\\\\053.Cocker_spaniel',\n",
       " 'n\\\\054.Collie',\n",
       " 'n\\\\055.Curly-coated_retriever',\n",
       " 'n\\\\056.Dachshund',\n",
       " 'n\\\\057.Dalmatian',\n",
       " 'n\\\\058.Dandie_dinmont_terrier',\n",
       " 'n\\\\059.Doberman_pinscher',\n",
       " 'n\\\\060.Dogue_de_bordeaux',\n",
       " 'n\\\\061.English_cocker_spaniel',\n",
       " 'n\\\\062.English_setter',\n",
       " 'n\\\\063.English_springer_spaniel',\n",
       " 'n\\\\064.English_toy_spaniel',\n",
       " 'n\\\\065.Entlebucher_mountain_dog',\n",
       " 'n\\\\066.Field_spaniel',\n",
       " 'n\\\\067.Finnish_spitz',\n",
       " 'n\\\\068.Flat-coated_retriever',\n",
       " 'n\\\\069.French_bulldog',\n",
       " 'n\\\\070.German_pinscher',\n",
       " 'n\\\\071.German_shepherd_dog',\n",
       " 'n\\\\072.German_shorthaired_pointer',\n",
       " 'n\\\\073.German_wirehaired_pointer',\n",
       " 'n\\\\074.Giant_schnauzer',\n",
       " 'n\\\\075.Glen_of_imaal_terrier',\n",
       " 'n\\\\076.Golden_retriever',\n",
       " 'n\\\\077.Gordon_setter',\n",
       " 'n\\\\078.Great_dane',\n",
       " 'n\\\\079.Great_pyrenees',\n",
       " 'n\\\\080.Greater_swiss_mountain_dog',\n",
       " 'n\\\\081.Greyhound',\n",
       " 'n\\\\082.Havanese',\n",
       " 'n\\\\083.Ibizan_hound',\n",
       " 'n\\\\084.Icelandic_sheepdog',\n",
       " 'n\\\\085.Irish_red_and_white_setter',\n",
       " 'n\\\\086.Irish_setter',\n",
       " 'n\\\\087.Irish_terrier',\n",
       " 'n\\\\088.Irish_water_spaniel',\n",
       " 'n\\\\089.Irish_wolfhound',\n",
       " 'n\\\\090.Italian_greyhound',\n",
       " 'n\\\\091.Japanese_chin',\n",
       " 'n\\\\092.Keeshond',\n",
       " 'n\\\\093.Kerry_blue_terrier',\n",
       " 'n\\\\094.Komondor',\n",
       " 'n\\\\095.Kuvasz',\n",
       " 'n\\\\096.Labrador_retriever',\n",
       " 'n\\\\097.Lakeland_terrier',\n",
       " 'n\\\\098.Leonberger',\n",
       " 'n\\\\099.Lhasa_apso',\n",
       " 'n\\\\100.Lowchen',\n",
       " 'n\\\\101.Maltese',\n",
       " 'n\\\\102.Manchester_terrier',\n",
       " 'n\\\\103.Mastiff',\n",
       " 'n\\\\104.Miniature_schnauzer',\n",
       " 'n\\\\105.Neapolitan_mastiff',\n",
       " 'n\\\\106.Newfoundland',\n",
       " 'n\\\\107.Norfolk_terrier',\n",
       " 'n\\\\108.Norwegian_buhund',\n",
       " 'n\\\\109.Norwegian_elkhound',\n",
       " 'n\\\\110.Norwegian_lundehund',\n",
       " 'n\\\\111.Norwich_terrier',\n",
       " 'n\\\\112.Nova_scotia_duck_tolling_retriever',\n",
       " 'n\\\\113.Old_english_sheepdog',\n",
       " 'n\\\\114.Otterhound',\n",
       " 'n\\\\115.Papillon',\n",
       " 'n\\\\116.Parson_russell_terrier',\n",
       " 'n\\\\117.Pekingese',\n",
       " 'n\\\\118.Pembroke_welsh_corgi',\n",
       " 'n\\\\119.Petit_basset_griffon_vendeen',\n",
       " 'n\\\\120.Pharaoh_hound',\n",
       " 'n\\\\121.Plott',\n",
       " 'n\\\\122.Pointer',\n",
       " 'n\\\\123.Pomeranian',\n",
       " 'n\\\\124.Poodle',\n",
       " 'n\\\\125.Portuguese_water_dog',\n",
       " 'n\\\\126.Saint_bernard',\n",
       " 'n\\\\127.Silky_terrier',\n",
       " 'n\\\\128.Smooth_fox_terrier',\n",
       " 'n\\\\129.Tibetan_mastiff',\n",
       " 'n\\\\130.Welsh_springer_spaniel',\n",
       " 'n\\\\131.Wirehaired_pointing_griffon',\n",
       " 'n\\\\132.Xoloitzcuintli',\n",
       " 'n\\\\133.Yorkshire_terrier']"
      ]
     },
     "execution_count": 6,
     "metadata": {},
     "output_type": "execute_result"
    }
   ],
   "source": [
    "dog_names"
   ]
  },
  {
   "cell_type": "code",
   "execution_count": 7,
   "metadata": {},
   "outputs": [],
   "source": [
    "# Try read in dog_names list from csv file to make sure it works\n",
    "import csv\n",
    "from itertools import chain\n",
    "\n",
    "with open('data/dog_names.csv') as f:\n",
    "    reader = csv.reader(f)\n",
    "    new_dog_names = list(reader)\n",
    "\n",
    "new_dog_names = list(chain.from_iterable(new_dog_names))"
   ]
  },
  {
   "cell_type": "code",
   "execution_count": 8,
   "metadata": {},
   "outputs": [
    {
     "data": {
      "text/plain": [
       "['n\\\\001.Affenpinscher',\n",
       " 'n\\\\002.Afghan_hound',\n",
       " 'n\\\\003.Airedale_terrier',\n",
       " 'n\\\\004.Akita',\n",
       " 'n\\\\005.Alaskan_malamute',\n",
       " 'n\\\\006.American_eskimo_dog',\n",
       " 'n\\\\007.American_foxhound',\n",
       " 'n\\\\008.American_staffordshire_terrier',\n",
       " 'n\\\\009.American_water_spaniel',\n",
       " 'n\\\\010.Anatolian_shepherd_dog',\n",
       " 'n\\\\011.Australian_cattle_dog',\n",
       " 'n\\\\012.Australian_shepherd',\n",
       " 'n\\\\013.Australian_terrier',\n",
       " 'n\\\\014.Basenji',\n",
       " 'n\\\\015.Basset_hound',\n",
       " 'n\\\\016.Beagle',\n",
       " 'n\\\\017.Bearded_collie',\n",
       " 'n\\\\018.Beauceron',\n",
       " 'n\\\\019.Bedlington_terrier',\n",
       " 'n\\\\020.Belgian_malinois',\n",
       " 'n\\\\021.Belgian_sheepdog',\n",
       " 'n\\\\022.Belgian_tervuren',\n",
       " 'n\\\\023.Bernese_mountain_dog',\n",
       " 'n\\\\024.Bichon_frise',\n",
       " 'n\\\\025.Black_and_tan_coonhound',\n",
       " 'n\\\\026.Black_russian_terrier',\n",
       " 'n\\\\027.Bloodhound',\n",
       " 'n\\\\028.Bluetick_coonhound',\n",
       " 'n\\\\029.Border_collie',\n",
       " 'n\\\\030.Border_terrier',\n",
       " 'n\\\\031.Borzoi',\n",
       " 'n\\\\032.Boston_terrier',\n",
       " 'n\\\\033.Bouvier_des_flandres',\n",
       " 'n\\\\034.Boxer',\n",
       " 'n\\\\035.Boykin_spaniel',\n",
       " 'n\\\\036.Briard',\n",
       " 'n\\\\037.Brittany',\n",
       " 'n\\\\038.Brussels_griffon',\n",
       " 'n\\\\039.Bull_terrier',\n",
       " 'n\\\\040.Bulldog',\n",
       " 'n\\\\041.Bullmastiff',\n",
       " 'n\\\\042.Cairn_terrier',\n",
       " 'n\\\\043.Canaan_dog',\n",
       " 'n\\\\044.Cane_corso',\n",
       " 'n\\\\045.Cardigan_welsh_corgi',\n",
       " 'n\\\\046.Cavalier_king_charles_spaniel',\n",
       " 'n\\\\047.Chesapeake_bay_retriever',\n",
       " 'n\\\\048.Chihuahua',\n",
       " 'n\\\\049.Chinese_crested',\n",
       " 'n\\\\050.Chinese_shar-pei',\n",
       " 'n\\\\051.Chow_chow',\n",
       " 'n\\\\052.Clumber_spaniel',\n",
       " 'n\\\\053.Cocker_spaniel',\n",
       " 'n\\\\054.Collie',\n",
       " 'n\\\\055.Curly-coated_retriever',\n",
       " 'n\\\\056.Dachshund',\n",
       " 'n\\\\057.Dalmatian',\n",
       " 'n\\\\058.Dandie_dinmont_terrier',\n",
       " 'n\\\\059.Doberman_pinscher',\n",
       " 'n\\\\060.Dogue_de_bordeaux',\n",
       " 'n\\\\061.English_cocker_spaniel',\n",
       " 'n\\\\062.English_setter',\n",
       " 'n\\\\063.English_springer_spaniel',\n",
       " 'n\\\\064.English_toy_spaniel',\n",
       " 'n\\\\065.Entlebucher_mountain_dog',\n",
       " 'n\\\\066.Field_spaniel',\n",
       " 'n\\\\067.Finnish_spitz',\n",
       " 'n\\\\068.Flat-coated_retriever',\n",
       " 'n\\\\069.French_bulldog',\n",
       " 'n\\\\070.German_pinscher',\n",
       " 'n\\\\071.German_shepherd_dog',\n",
       " 'n\\\\072.German_shorthaired_pointer',\n",
       " 'n\\\\073.German_wirehaired_pointer',\n",
       " 'n\\\\074.Giant_schnauzer',\n",
       " 'n\\\\075.Glen_of_imaal_terrier',\n",
       " 'n\\\\076.Golden_retriever',\n",
       " 'n\\\\077.Gordon_setter',\n",
       " 'n\\\\078.Great_dane',\n",
       " 'n\\\\079.Great_pyrenees',\n",
       " 'n\\\\080.Greater_swiss_mountain_dog',\n",
       " 'n\\\\081.Greyhound',\n",
       " 'n\\\\082.Havanese',\n",
       " 'n\\\\083.Ibizan_hound',\n",
       " 'n\\\\084.Icelandic_sheepdog',\n",
       " 'n\\\\085.Irish_red_and_white_setter',\n",
       " 'n\\\\086.Irish_setter',\n",
       " 'n\\\\087.Irish_terrier',\n",
       " 'n\\\\088.Irish_water_spaniel',\n",
       " 'n\\\\089.Irish_wolfhound',\n",
       " 'n\\\\090.Italian_greyhound',\n",
       " 'n\\\\091.Japanese_chin',\n",
       " 'n\\\\092.Keeshond',\n",
       " 'n\\\\093.Kerry_blue_terrier',\n",
       " 'n\\\\094.Komondor',\n",
       " 'n\\\\095.Kuvasz',\n",
       " 'n\\\\096.Labrador_retriever',\n",
       " 'n\\\\097.Lakeland_terrier',\n",
       " 'n\\\\098.Leonberger',\n",
       " 'n\\\\099.Lhasa_apso',\n",
       " 'n\\\\100.Lowchen',\n",
       " 'n\\\\101.Maltese',\n",
       " 'n\\\\102.Manchester_terrier',\n",
       " 'n\\\\103.Mastiff',\n",
       " 'n\\\\104.Miniature_schnauzer',\n",
       " 'n\\\\105.Neapolitan_mastiff',\n",
       " 'n\\\\106.Newfoundland',\n",
       " 'n\\\\107.Norfolk_terrier',\n",
       " 'n\\\\108.Norwegian_buhund',\n",
       " 'n\\\\109.Norwegian_elkhound',\n",
       " 'n\\\\110.Norwegian_lundehund',\n",
       " 'n\\\\111.Norwich_terrier',\n",
       " 'n\\\\112.Nova_scotia_duck_tolling_retriever',\n",
       " 'n\\\\113.Old_english_sheepdog',\n",
       " 'n\\\\114.Otterhound',\n",
       " 'n\\\\115.Papillon',\n",
       " 'n\\\\116.Parson_russell_terrier',\n",
       " 'n\\\\117.Pekingese',\n",
       " 'n\\\\118.Pembroke_welsh_corgi',\n",
       " 'n\\\\119.Petit_basset_griffon_vendeen',\n",
       " 'n\\\\120.Pharaoh_hound',\n",
       " 'n\\\\121.Plott',\n",
       " 'n\\\\122.Pointer',\n",
       " 'n\\\\123.Pomeranian',\n",
       " 'n\\\\124.Poodle',\n",
       " 'n\\\\125.Portuguese_water_dog',\n",
       " 'n\\\\126.Saint_bernard',\n",
       " 'n\\\\127.Silky_terrier',\n",
       " 'n\\\\128.Smooth_fox_terrier',\n",
       " 'n\\\\129.Tibetan_mastiff',\n",
       " 'n\\\\130.Welsh_springer_spaniel',\n",
       " 'n\\\\131.Wirehaired_pointing_griffon',\n",
       " 'n\\\\132.Xoloitzcuintli',\n",
       " 'n\\\\133.Yorkshire_terrier']"
      ]
     },
     "execution_count": 8,
     "metadata": {},
     "output_type": "execute_result"
    }
   ],
   "source": [
    "new_dog_names"
   ]
  },
  {
   "cell_type": "markdown",
   "metadata": {},
   "source": [
    "### Import Human Dataset\n",
    "\n",
    "In the code cell below, we import a dataset of human images, where the file paths are stored in the numpy array `human_files`."
   ]
  },
  {
   "cell_type": "code",
   "execution_count": 9,
   "metadata": {},
   "outputs": [
    {
     "name": "stdout",
     "output_type": "stream",
     "text": [
      "There are 13233 total human images.\n"
     ]
    }
   ],
   "source": [
    "import random\n",
    "random.seed(8675309)\n",
    "\n",
    "# load filenames in shuffled human dataset\n",
    "human_files = np.array(glob(\"data/lfw/*/*\"))\n",
    "random.shuffle(human_files)\n",
    "\n",
    "# print statistics about the dataset\n",
    "print('There are %d total human images.' % len(human_files))"
   ]
  },
  {
   "cell_type": "markdown",
   "metadata": {},
   "source": [
    "---\n",
    "<a id='step1'></a>\n",
    "## Step 1: Detect Humans\n",
    "\n",
    "We use OpenCV's implementation of [Haar feature-based cascade classifiers](http://docs.opencv.org/trunk/d7/d8b/tutorial_py_face_detection.html) to detect human faces in images.  OpenCV provides many pre-trained face detectors, stored as XML files on [github](https://github.com/opencv/opencv/tree/master/data/haarcascades).  We have downloaded one of these detectors and stored it in the `haarcascades` directory.\n",
    "\n",
    "In the next code cell, we demonstrate how to use this detector to find human faces in a sample image."
   ]
  },
  {
   "cell_type": "code",
   "execution_count": 10,
   "metadata": {},
   "outputs": [
    {
     "name": "stdout",
     "output_type": "stream",
     "text": [
      "Number of faces detected: 1\n"
     ]
    },
    {
     "data": {
      "image/png": "[encoded data removed]",
      "text/plain": [
       "<Figure size 432x288 with 1 Axes>"
      ]
     },
     "metadata": {
      "needs_background": "light"
     },
     "output_type": "display_data"
    }
   ],
   "source": [
    "import cv2\n",
    "import matplotlib.pyplot as plt\n",
    "%matplotlib inline\n",
    "\n",
    "# extract pre-trained face detector\n",
    "face_cascade = cv2.CascadeClassifier(\n",
    "    'haarcascades/haarcascade_frontalface_alt.xml')\n",
    "\n",
    "# load color (BGR) image\n",
    "img = cv2.imread(human_files[3])\n",
    "# convert BGR image to grayscale\n",
    "gray = cv2.cvtColor(img, cv2.COLOR_BGR2GRAY)\n",
    "\n",
    "# find faces in image\n",
    "faces = face_cascade.detectMultiScale(gray)\n",
    "\n",
    "# print number of faces detected in the image\n",
    "print(f'Number of faces detected: {len(faces)}' )\n",
    "\n",
    "# get bounding box for each detected face\n",
    "for (x, y, w, h) in faces:\n",
    "    # add bounding box to color image\n",
    "    cv2.rectangle(img, (x, y), (x+w, y+h), (255, 0, 0), 2)\n",
    "\n",
    "# convert BGR image to RGB for plotting\n",
    "cv_rgb = cv2.cvtColor(img, cv2.COLOR_BGR2RGB)\n",
    "\n",
    "# display the image, along with bounding box\n",
    "plt.imshow(cv_rgb)\n",
    "plt.show()"
   ]
  },
  {
   "cell_type": "markdown",
   "metadata": {},
   "source": [
    "Before using any of the face detectors, it is standard procedure to convert the images to grayscale.  The `detectMultiScale` function executes the classifier stored in `face_cascade` and takes the grayscale image as a parameter.  \n",
    "\n",
    "In the above code, `faces` is a numpy array of detected faces, where each row corresponds to a detected face.  Each detected face is a 1D array with four entries that specifies the bounding box of the detected face.  The first two entries in the array (extracted in the above code as `x` and `y`) specify the horizontal and vertical positions of the top left corner of the bounding box.  The last two entries in the array (extracted here as `w` and `h`) specify the width and height of the box.\n",
    "\n",
    "### Write a Human Face Detector\n",
    "\n",
    "We can use this procedure to write a function that returns `True` if a human face is detected in an image and `False` otherwise.  This function, aptly named `face_detector`, takes a string-valued file path to an image as input and appears in the code block below."
   ]
  },
  {
   "cell_type": "code",
   "execution_count": 11,
   "metadata": {},
   "outputs": [],
   "source": [
    "def face_detector(img_path):\n",
    "    \"\"\"\n",
    "    This function takes a path to an image as input and returns True or False representing whether a face is detected in the image or not\n",
    "\n",
    "    Parameter:\n",
    "    img_path: the path of the image user wants to identify the possible dog\n",
    "    breed\n",
    "\n",
    "    Returns:\n",
    "    True or False representing whether a face is detected in the image or not\n",
    "    \"\"\"\n",
    "    img = cv2.imread(img_path)\n",
    "    gray = cv2.cvtColor(img, cv2.COLOR_BGR2GRAY)\n",
    "    faces = face_cascade.detectMultiScale(gray)\n",
    "    return len(faces) > 0"
   ]
  },
  {
   "cell_type": "markdown",
   "metadata": {},
   "source": [
    "### (IMPLEMENTATION) Assess the Human Face Detector\n",
    "\n",
    "__Question 1:__ Use the code cell below to test the performance of the `face_detector` function.  \n",
    "- What percentage of the first 100 images in `human_files` have a detected human face?  \n",
    "- What percentage of the first 100 images in `dog_files` have a detected human face? \n",
    "\n",
    "Ideally, we would like 100% of human images with a detected face and 0% of dog images with a detected face.  You will see that our algorithm falls short of this goal, but still gives acceptable performance.  We extract the file paths for the first 100 images from each of the datasets and store them in the numpy arrays `human_files_short` and `dog_files_short`.\n",
    "\n",
    "__Answer:__ \n",
    "\n",
    "100 % of the first 100 images in human_files have a detected human face.\n",
    "\n",
    "11% of the first 100 images in dog_files have a detected human face."
   ]
  },
  {
   "cell_type": "code",
   "execution_count": 12,
   "metadata": {},
   "outputs": [
    {
     "name": "stdout",
     "output_type": "stream",
     "text": [
      "99 images of the first 100 images in human_files have a detected human face.\n",
      "12 images of the first 100 images in dog_files have a detected human face.\n"
     ]
    }
   ],
   "source": [
    "human_files_short = human_files[:100]\n",
    "dog_files_short = train_files[:100]\n",
    "# Do NOT modify the code above this line.\n",
    "\n",
    "number_human_face1 = 0\n",
    "number_human_face2 = 0\n",
    "\n",
    "for i in human_files_short:\n",
    "    if face_detector(i):\n",
    "        number_human_face1 += 1\n",
    "\n",
    "for i in dog_files_short:\n",
    "    if face_detector(i):\n",
    "        number_human_face2 += 1\n",
    "\n",
    "print(f'{number_human_face1:d} images of the first 100 images in human_files '\n",
    "      f'have a detected human face.' )\n",
    "print(f'{number_human_face2:d} images of the first 100 images in dog_files '\n",
    "      f'have a detected human face.' )"
   ]
  },
  {
   "cell_type": "markdown",
   "metadata": {},
   "source": [
    "__Question 2:__ This algorithmic choice necessitates that we communicate to the user that we accept human images only when they provide a clear view of a face (otherwise, we risk having unneccessarily frustrated users!). In your opinion, is this a reasonable expectation to pose on the user? If not, can you think of a way to detect humans in images that does not necessitate an image with a clearly presented face?\n",
    "\n",
    "__Answer:__\n",
    "\n",
    "In my opinion, this is not a reasonable expectation to pose on the user. If we want to detect humans in images that does not necessitate an image with a clearly presented face, we can try convolutional neural network. The training data should include a diverse set of images from different angles, size, position and partial obscurations. We can expand the training set by augmenting the data to achieve that.\n",
    "\n",
    "We suggest the face detector from OpenCV as a potential way to detect human images in your algorithm, but you are free to explore other approaches, especially approaches that make use of deep learning :).  Please use the code cell below to design and test your own face detection algorithm.  If you decide to pursue this _optional_ task, report performance on each of the datasets."
   ]
  },
  {
   "cell_type": "code",
   "execution_count": 13,
   "metadata": {},
   "outputs": [],
   "source": [
    "# (Optional) TODO: Report the performance of another\n",
    "# face detection algorithm on the LFW dataset\n",
    "# Feel free to use as many code cells as needed."
   ]
  },
  {
   "cell_type": "markdown",
   "metadata": {},
   "source": [
    "---\n",
    "<a id='step2'></a>\n",
    "## Step 2: Detect Dogs\n",
    "\n",
    "In this section, we use a pre-trained [ResNet-50](http://ethereon.github.io/netscope/#/gist/db945b393d40bfa26006) model to detect dogs in images.  Our first line of code downloads the ResNet-50 model, along with weights that have been trained on [ImageNet](http://www.image-net.org/), a very large, very popular dataset used for image classification and other vision tasks.  ImageNet contains over 10 million URLs, each linking to an image containing an object from one of [1000 categories](https://gist.github.com/yrevar/942d3a0ac09ec9e5eb3a).  Given an image, this pre-trained ResNet-50 model returns a prediction (derived from the available categories in ImageNet) for the object that is contained in the image."
   ]
  },
  {
   "cell_type": "code",
   "execution_count": 14,
   "metadata": {},
   "outputs": [
    {
     "name": "stdout",
     "output_type": "stream",
     "text": [
      "WARNING:tensorflow:From C:\\Users\\ayush\\anaconda3\\lib\\site-packages\\tensorflow\\python\\ops\\resource_variable_ops.py:435: colocate_with (from tensorflow.python.framework.ops) is deprecated and will be removed in a future version.\n",
      "Instructions for updating:\n",
      "Colocations handled automatically by placer.\n"
     ]
    }
   ],
   "source": [
    "from keras.applications.resnet50 import ResNet50\n",
    "\n",
    "# define ResNet50 model\n",
    "ResNet50_model = ResNet50(weights='imagenet')"
   ]
  },
  {
   "cell_type": "markdown",
   "metadata": {},
   "source": [
    "### Pre-process the Data\n",
    "\n",
    "When using TensorFlow as backend, Keras CNNs require a 4D array (which we'll also refer to as a 4D tensor) as input, with shape\n",
    "\n",
    "$$\n",
    "(\\text{nb_samples}, \\text{rows}, \\text{columns}, \\text{channels}),\n",
    "$$\n",
    "\n",
    "where `nb_samples` corresponds to the total number of images (or samples), and `rows`, `columns`, and `channels` correspond to the number of rows, columns, and channels for each image, respectively.  \n",
    "\n",
    "The `path_to_tensor` function below takes a string-valued file path to a color image as input and returns a 4D tensor suitable for supplying to a Keras CNN.  The function first loads the image and resizes it to a square image that is $224 \\times 224$ pixels.  Next, the image is converted to an array, which is then resized to a 4D tensor.  In this case, since we are working with color images, each image has three channels.  Likewise, since we are processing a single image (or sample), the returned tensor will always have shape\n",
    "\n",
    "$$\n",
    "(1, 224, 224, 3).\n",
    "$$\n",
    "\n",
    "The `paths_to_tensor` function takes a numpy array of string-valued image paths as input and returns a 4D tensor with shape \n",
    "\n",
    "$$\n",
    "(\\text{nb_samples}, 224, 224, 3).\n",
    "$$\n",
    "\n",
    "Here, `nb_samples` is the number of samples, or number of images, in the supplied array of image paths.  It is best to think of `nb_samples` as the number of 3D tensors (where each 3D tensor corresponds to a different image) in your dataset!"
   ]
  },
  {
   "cell_type": "code",
   "execution_count": 15,
   "metadata": {},
   "outputs": [],
   "source": [
    "from keras.preprocessing import image\n",
    "from tqdm import tqdm\n",
    "\n",
    "\n",
    "def path_to_tensor(img_path):\n",
    "    \"\"\"\n",
    "    This function takes a string-valued file path to a color image as input and returns a 4D tensor suitable for supplying to a Keras CNN.\n",
    "\n",
    "    Parameter:\n",
    "    img_path: the path of the dog breeds project dataset\n",
    "\n",
    "    Returns:\n",
    "    a 4D tensor with shape (1,224,224,3) suitable for supplying to a Keras CNN\n",
    "    \"\"\"\n",
    "    # loads RGB image as PIL.Image.Image type\n",
    "    img = image.load_img(img_path, target_size=(224, 224))\n",
    "    # convert PIL.Image.Image type to 3D tensor with shape (224, 224, 3)\n",
    "    x = image.img_to_array(img)\n",
    "    # convert 3D tensor to 4D tensor with shape (1, 224, 224, 3) and return 4D tensor\n",
    "    return np.expand_dims(x, axis=0)\n",
    "\n",
    "\n",
    "def paths_to_tensor(img_paths):\n",
    "    \"\"\"\n",
    "    This function takes a numpy array of string-valued image paths as input and returns a 4D tensor with shape\n",
    "\n",
    "    Parameter:\n",
    "    img_paths: a numpy array of string-valued image paths\n",
    "\n",
    "    Returns:\n",
    "    a 4D tensor with shape (nb_samples,224,224,3)\n",
    "    \"\"\"\n",
    "    list_of_tensors = [path_to_tensor(img_path) for img_path in tqdm(img_paths)]\n",
    "    return np.vstack(list_of_tensors)"
   ]
  },
  {
   "cell_type": "markdown",
   "metadata": {},
   "source": [
    "### Making Predictions with ResNet-50\n",
    "\n",
    "Getting the 4D tensor ready for ResNet-50, and for any other pre-trained model in Keras, requires some additional processing.  First, the RGB image is converted to BGR by reordering the channels.  All pre-trained models have the additional normalization step that the mean pixel (expressed in RGB as $[103.939, 116.779, 123.68]$ and calculated from all pixels in all images in ImageNet) must be subtracted from every pixel in each image.  This is implemented in the imported function `preprocess_input`.  If you're curious, you can check the code for `preprocess_input` [here](https://github.com/fchollet/keras/blob/master/keras/applications/imagenet_utils.py).\n",
    "\n",
    "Now that we have a way to format our image for supplying to ResNet-50, we are now ready to use the model to extract the predictions.  This is accomplished with the `predict` method, which returns an array whose $i$-th entry is the model's predicted probability that the image belongs to the $i$-th ImageNet category.  This is implemented in the `ResNet50_predict_labels` function below.\n",
    "\n",
    "By taking the argmax of the predicted probability vector, we obtain an integer corresponding to the model's predicted object class, which we can identify with an object category through the use of this [dictionary](https://gist.github.com/yrevar/942d3a0ac09ec9e5eb3a). "
   ]
  },
  {
   "cell_type": "code",
   "execution_count": 16,
   "metadata": {},
   "outputs": [],
   "source": [
    "from keras.applications.resnet50 import preprocess_input\n",
    "\n",
    "\n",
    "def ResNet50_predict_labels(img_path):\n",
    "    \"\"\"\n",
    "    This function takes a string-valued file path to a color image as input\n",
    "    and returns prediction vector for image located at img_path\n",
    "\n",
    "    Parameter:\n",
    "    img_path: the path of the dog breeds project dataset\n",
    "\n",
    "    Returns:\n",
    "    prediction vector for image located at img_path\n",
    "    \"\"\"\n",
    "    img = preprocess_input(path_to_tensor(img_path))\n",
    "    return np.argmax(ResNet50_model.predict(img))"
   ]
  },
  {
   "cell_type": "markdown",
   "metadata": {},
   "source": [
    "### Write a Dog Detector\n",
    "\n",
    "While looking at the [dictionary](https://gist.github.com/yrevar/942d3a0ac09ec9e5eb3a), you will notice that the categories corresponding to dogs appear in an uninterrupted sequence and correspond to dictionary keys 151-268, inclusive, to include all categories from `'Chihuahua'` to `'Mexican hairless'`.  Thus, in order to check to see if an image is predicted to contain a dog by the pre-trained ResNet-50 model, we need only check if the `ResNet50_predict_labels` function above returns a value between 151 and 268 (inclusive).\n",
    "\n",
    "We use these ideas to complete the `dog_detector` function below, which returns `True` if a dog is detected in an image (and `False` if not)."
   ]
  },
  {
   "cell_type": "code",
   "execution_count": 17,
   "metadata": {},
   "outputs": [],
   "source": [
    "def dog_detector(img_path):\n",
    "    \"\"\"\n",
    "    This function takes a path to an image as input and returns True or False\n",
    "     representing whether a dog is detected in the image or not\n",
    "\n",
    "    Parameter:\n",
    "    img_path: the path of the image user wants to identify\n",
    "\n",
    "    Returns:\n",
    "    True or False representing whether a dog is detected in the image or not\n",
    "    \"\"\"\n",
    "    prediction = ResNet50_predict_labels(img_path)\n",
    "    return ((prediction <= 268) & (prediction >= 151))"
   ]
  },
  {
   "cell_type": "markdown",
   "metadata": {},
   "source": [
    "### (IMPLEMENTATION) Assess the Dog Detector\n",
    "\n",
    "__Question 3:__ Use the code cell below to test the performance of your `dog_detector` function.  \n",
    "- What percentage of the images in `human_files_short` have a detected dog?  \n",
    "- What percentage of the images in `dog_files_short` have a detected dog?\n",
    "\n",
    "__Answer:__ \n",
    "\n",
    "0% of the images in human_files_short have a detected dog.\n",
    "\n",
    "100% of the images in dog_files_short have a detected dog.\n"
   ]
  },
  {
   "cell_type": "code",
   "execution_count": 18,
   "metadata": {},
   "outputs": [
    {
     "name": "stdout",
     "output_type": "stream",
     "text": [
      "1 images of the images in human_files_short have a detected dog.\n",
      "100 images of the images in dog_files_short have a detected dog.\n"
     ]
    }
   ],
   "source": [
    "number_dog1 = 0\n",
    "number_dog2 = 0\n",
    "for i in human_files_short:\n",
    "    if dog_detector(i):\n",
    "        number_dog1 += 1\n",
    "\n",
    "for i in dog_files_short:\n",
    "    if dog_detector(i):\n",
    "        number_dog2 += 1\n",
    "\n",
    "print(f'{number_dog1:d} images of the images in human_files_short have a '\n",
    "      f'detected dog.' )\n",
    "print(f'{number_dog2:d} images of the images in dog_files_short have a '\n",
    "      f'detected dog.' )"
   ]
  },
  {
   "cell_type": "markdown",
   "metadata": {},
   "source": [
    "---\n",
    "<a id='step3'></a>\n",
    "## Step 3: Create a CNN to Classify Dog Breeds (from Scratch)\n",
    "\n",
    "Now that we have functions for detecting humans and dogs in images, we need a way to predict breed from images.  In this step, you will create a CNN that classifies dog breeds.  You must create your CNN _from scratch_ (so, you can't use transfer learning _yet_!), and you must attain a test accuracy of at least 1%.  In Step 5 of this notebook, you will have the opportunity to use transfer learning to create a CNN that attains greatly improved accuracy.\n",
    "\n",
    "Be careful with adding too many trainable layers!  More parameters means longer training, which means you are more likely to need a GPU to accelerate the training process.  Thankfully, Keras provides a handy estimate of the time that each epoch is likely to take; you can extrapolate this estimate to figure out how long it will take for your algorithm to train. \n",
    "\n",
    "We mention that the task of assigning breed to dogs from images is considered exceptionally challenging.  To see why, consider that *even a human* would have great difficulty in distinguishing between a Brittany and a Welsh Springer Spaniel.  \n",
    "\n",
    "Brittany | Welsh Springer Spaniel\n",
    "- | - \n",
    "<img src=\"images/Brittany_02625.jpg\" width=\"100\"> | <img src=\"images/Welsh_springer_spaniel_08203.jpg\" width=\"200\">\n",
    "\n",
    "It is not difficult to find other dog breed pairs with minimal inter-class variation (for instance, Curly-Coated Retrievers and American Water Spaniels).  \n",
    "\n",
    "Curly-Coated Retriever | American Water Spaniel\n",
    "- | -\n",
    "<img src=\"images/Curly-coated_retriever_03896.jpg\" width=\"200\"> | <img src=\"images/American_water_spaniel_00648.jpg\" width=\"200\">\n",
    "\n",
    "\n",
    "Likewise, recall that labradors come in yellow, chocolate, and black.  Your vision-based algorithm will have to conquer this high intra-class variation to determine how to classify all of these different shades as the same breed.  \n",
    "\n",
    "Yellow Labrador | Chocolate Labrador | Black Labrador\n",
    "- | -\n",
    "<img src=\"images/Labrador_retriever_06457.jpg\" width=\"150\"> | <img src=\"images/Labrador_retriever_06455.jpg\" width=\"240\"> | <img src=\"images/Labrador_retriever_06449.jpg\" width=\"220\">\n",
    "\n",
    "We also mention that random chance presents an exceptionally low bar: setting aside the fact that the classes are slightly imabalanced, a random guess will provide a correct answer roughly 1 in 133 times, which corresponds to an accuracy of less than 1%.  \n",
    "\n",
    "Remember that the practice is far ahead of the theory in deep learning.  Experiment with many different architectures, and trust your intuition.  And, of course, have fun! \n",
    "\n",
    "### Pre-process the Data\n",
    "\n",
    "We rescale the images by dividing every pixel in every image by 255."
   ]
  },
  {
   "cell_type": "code",
   "execution_count": 19,
   "metadata": {},
   "outputs": [
    {
     "name": "stderr",
     "output_type": "stream",
     "text": [
      "100%|██████████| 6680/6680 [02:07<00:00, 52.39it/s] \n",
      "100%|██████████| 835/835 [00:45<00:00, 18.29it/s]\n",
      "100%|██████████| 836/836 [00:33<00:00, 25.07it/s]\n"
     ]
    }
   ],
   "source": [
    "from PIL import ImageFile\n",
    "ImageFile.LOAD_TRUNCATED_IMAGES = True\n",
    "\n",
    "# pre-process the data for Keras\n",
    "train_tensors = paths_to_tensor(train_files).astype('float32')/255\n",
    "valid_tensors = paths_to_tensor(valid_files).astype('float32')/255\n",
    "test_tensors = paths_to_tensor(test_files).astype('float32')/255"
   ]
  },
  {
   "cell_type": "markdown",
   "metadata": {},
   "source": [
    "### (IMPLEMENTATION) Model Architecture\n",
    "\n",
    "Create a CNN to classify dog breed.  At the end of your code cell block, summarize the layers of your model by executing the line:\n",
    "    \n",
    "        model.summary()\n",
    "\n",
    "We have imported some Python modules to get you started, but feel free to import as many modules as you need.  If you end up getting stuck, here's a hint that specifies a model that trains relatively fast on CPU and attains >1% test accuracy in 5 epochs:\n",
    "\n",
    "![Sample CNN](images/sample_cnn.png)\n",
    "           \n",
    "__Question 4:__ Outline the steps you took to get to your final CNN architecture and your reasoning at each step.  If you chose to use the hinted architecture above, describe why you think that CNN architecture should work well for the image classification task.\n",
    "\n",
    "__Answer:__ \n",
    "\n",
    "In my CNN architecture, four convolution layers are used. The 1st convolutional layer has 16 filters, with kernel size 3, padding set to 'same' results in the output has the same length as the original input. I apply relu function as activation to introduce nonlinearity to convolutional layer. Relu works well because the network is able to train a lot faster (because of the computational efficiency) without making a significant difference to the accuracy. The input_shape set to (224,224,3) as the input images are 224 pixel multipy 224 pixel RGB image. The 2rd, 3rd, 4th convolutional layers follw the same settign with 1st convolutional layer, with the filters increase from 16 to 32 and 64. So the depth increases from 3 to 64, which discover hierarchies of spatial patterns in the image.\n",
    "\n",
    "After each convolution layers, I add MaxPooling2D Layers to reduces the spatial dimension of the input layer. This layer can reduces the amount of parameters, thus lower the computation cost. Also, this layer can control overfitting. To further control overfitting, one dropout layer is added after 2rd convolution layer.\n",
    "\n",
    "Flatten function is used to transform the tensor into one dimensional vector. Two Dense layers are designed to further elucidate the features of the image. As we have 133 different dog breeds, so the final dense layer has 133 nodes. Softmax activation function is used in final layer to return probabilities.\n",
    "\n",
    "CNN architecture with style of having successive convolution and pooling layers, followed by fully-connected layers, takes the input image array and gradually makes it deep and reduce the spatial dimensions. The important features in image then been extracted. Based on these information, we can determine what object is shown in image. Thus CNN architecture works well for the image classification task.\n"
   ]
  },
  {
   "cell_type": "code",
   "execution_count": 20,
   "metadata": {},
   "outputs": [
    {
     "name": "stdout",
     "output_type": "stream",
     "text": [
      "Model: \"sequential_1\"\n",
      "_________________________________________________________________\n",
      "Layer (type)                 Output Shape              Param #   \n",
      "=================================================================\n",
      "conv2d_1 (Conv2D)            (None, 224, 224, 16)      448       \n",
      "_________________________________________________________________\n",
      "max_pooling2d_2 (MaxPooling2 (None, 112, 112, 16)      0         \n",
      "_________________________________________________________________\n",
      "conv2d_2 (Conv2D)            (None, 112, 112, 32)      4640      \n",
      "_________________________________________________________________\n",
      "max_pooling2d_3 (MaxPooling2 (None, 56, 56, 32)        0         \n",
      "_________________________________________________________________\n",
      "dropout_1 (Dropout)          (None, 56, 56, 32)        0         \n",
      "_________________________________________________________________\n",
      "conv2d_3 (Conv2D)            (None, 56, 56, 64)        18496     \n",
      "_________________________________________________________________\n",
      "max_pooling2d_4 (MaxPooling2 (None, 28, 28, 64)        0         \n",
      "_________________________________________________________________\n",
      "conv2d_4 (Conv2D)            (None, 28, 28, 64)        36928     \n",
      "_________________________________________________________________\n",
      "max_pooling2d_5 (MaxPooling2 (None, 14, 14, 64)        0         \n",
      "_________________________________________________________________\n",
      "flatten_1 (Flatten)          (None, 12544)             0         \n",
      "_________________________________________________________________\n",
      "dense_1 (Dense)              (None, 266)               3336970   \n",
      "_________________________________________________________________\n",
      "dropout_2 (Dropout)          (None, 266)               0         \n",
      "_________________________________________________________________\n",
      "dense_2 (Dense)              (None, 133)               35511     \n",
      "=================================================================\n",
      "Total params: 3,432,993\n",
      "Trainable params: 3,432,993\n",
      "Non-trainable params: 0\n",
      "_________________________________________________________________\n"
     ]
    }
   ],
   "source": [
    "from keras.layers import Conv2D, MaxPooling2D, GlobalAveragePooling2D\n",
    "from keras.layers import Dropout, Flatten, Dense\n",
    "from keras.models import Sequential\n",
    "\n",
    "model = Sequential()\n",
    "\n",
    "model.add(Conv2D(filters=16, kernel_size=3, padding='same',\n",
    "                 activation='relu', input_shape=(224, 224, 3)))\n",
    "model.add(MaxPooling2D(pool_size=(2, 2)))\n",
    "model.add(Conv2D(filters=32, kernel_size=3, padding='same', activation='relu'))\n",
    "model.add(MaxPooling2D(pool_size=(2, 2)))\n",
    "model.add(Dropout(0.2))\n",
    "\n",
    "model.add(Conv2D(filters=64, kernel_size=3, padding='same',\n",
    "                 activation='relu'))\n",
    "model.add(MaxPooling2D(pool_size=(2, 2)))\n",
    "model.add(Conv2D(filters=64, kernel_size=3, padding='same', activation='relu'))\n",
    "model.add(MaxPooling2D(pool_size=(2, 2)))\n",
    "\n",
    "model.add(Flatten())\n",
    "model.add(Dense(266, activation='relu'))\n",
    "model.add(Dropout(0.3))\n",
    "model.add(Dense(133, activation='softmax'))\n",
    "\n",
    "model.summary()"
   ]
  },
  {
   "cell_type": "markdown",
   "metadata": {},
   "source": [
    "### Compile the Model"
   ]
  },
  {
   "cell_type": "code",
   "execution_count": 21,
   "metadata": {},
   "outputs": [],
   "source": [
    "model.compile(optimizer='rmsprop', loss='categorical_crossentropy',\n",
    "              metrics=['accuracy'])"
   ]
  },
  {
   "cell_type": "markdown",
   "metadata": {},
   "source": [
    "### (IMPLEMENTATION) Train the Model\n",
    "\n",
    "Train your model in the code cell below.  Use model checkpointing to save the model that attains the best validation loss.\n",
    "\n",
    "You are welcome to [augment the training data](https://blog.keras.io/building-powerful-image-classification-models-using-very-little-data.html), but this is not a requirement. "
   ]
  },
  {
   "cell_type": "code",
   "execution_count": 22,
   "metadata": {},
   "outputs": [
    {
     "name": "stdout",
     "output_type": "stream",
     "text": [
      "WARNING:tensorflow:From C:\\Users\\ayush\\anaconda3\\lib\\site-packages\\tensorflow\\python\\ops\\math_ops.py:3066: to_int32 (from tensorflow.python.ops.math_ops) is deprecated and will be removed in a future version.\n",
      "Instructions for updating:\n",
      "Use tf.cast instead.\n",
      "Train on 6680 samples, validate on 835 samples\n",
      "Epoch 1/10\n",
      "6680/6680 [==============================] - 543s 81ms/step - loss: 4.8612 - accuracy: 0.0148 - val_loss: 4.7051 - val_accuracy: 0.0311\n",
      "\n",
      "Epoch 00001: val_loss improved from inf to 4.70513, saving model to saved_models/weights.best.from_scratch.hdf5\n",
      "Epoch 2/10\n",
      "6680/6680 [==============================] - 480s 72ms/step - loss: 4.5361 - accuracy: 0.0368 - val_loss: 4.3463 - val_accuracy: 0.0647\n",
      "\n",
      "Epoch 00002: val_loss improved from 4.70513 to 4.34629, saving model to saved_models/weights.best.from_scratch.hdf5\n",
      "Epoch 3/10\n",
      "6680/6680 [==============================] - 506s 76ms/step - loss: 4.2306 - accuracy: 0.0627 - val_loss: 4.1524 - val_accuracy: 0.0754\n",
      "\n",
      "Epoch 00003: val_loss improved from 4.34629 to 4.15241, saving model to saved_models/weights.best.from_scratch.hdf5\n",
      "Epoch 4/10\n",
      "6680/6680 [==============================] - 482s 72ms/step - loss: 3.9099 - accuracy: 0.1010 - val_loss: 3.9948 - val_accuracy: 0.0994\n",
      "\n",
      "Epoch 00004: val_loss improved from 4.15241 to 3.99485, saving model to saved_models/weights.best.from_scratch.hdf5\n",
      "Epoch 5/10\n",
      "6680/6680 [==============================] - 477s 71ms/step - loss: 3.5323 - accuracy: 0.1683 - val_loss: 3.9613 - val_accuracy: 0.1150\n",
      "\n",
      "Epoch 00005: val_loss improved from 3.99485 to 3.96130, saving model to saved_models/weights.best.from_scratch.hdf5\n",
      "Epoch 6/10\n",
      "6680/6680 [==============================] - 480s 72ms/step - loss: 3.0266 - accuracy: 0.2633 - val_loss: 4.1544 - val_accuracy: 0.1186\n",
      "\n",
      "Epoch 00006: val_loss did not improve from 3.96130\n",
      "Epoch 7/10\n",
      "6680/6680 [==============================] - 475s 71ms/step - loss: 2.4379 - accuracy: 0.3807 - val_loss: 4.5564 - val_accuracy: 0.1066\n",
      "\n",
      "Epoch 00007: val_loss did not improve from 3.96130\n",
      "Epoch 8/10\n",
      "6680/6680 [==============================] - 489s 73ms/step - loss: 1.8295 - accuracy: 0.5229 - val_loss: 4.6972 - val_accuracy: 0.1162\n",
      "\n",
      "Epoch 00008: val_loss did not improve from 3.96130\n",
      "Epoch 9/10\n",
      "6680/6680 [==============================] - 472s 71ms/step - loss: 1.3213 - accuracy: 0.6395 - val_loss: 5.5208 - val_accuracy: 0.1150\n",
      "\n",
      "Epoch 00009: val_loss did not improve from 3.96130\n",
      "Epoch 10/10\n",
      "6680/6680 [==============================] - 492s 74ms/step - loss: 0.9345 - accuracy: 0.7416 - val_loss: 6.0999 - val_accuracy: 0.1269\n",
      "\n",
      "Epoch 00010: val_loss did not improve from 3.96130\n"
     ]
    },
    {
     "data": {
      "text/plain": [
       "<keras.callbacks.callbacks.History at 0x2186371d148>"
      ]
     },
     "execution_count": 22,
     "metadata": {},
     "output_type": "execute_result"
    }
   ],
   "source": [
    "from keras.callbacks import ModelCheckpoint\n",
    "\n",
    "epochs = 10\n",
    "\n",
    "# Do NOT modify the code below this line.\n",
    "\n",
    "checkpointer = ModelCheckpoint(filepath='saved_models/weights.best.from_scratch.hdf5',\n",
    "                               verbose=1, save_best_only=True)\n",
    "\n",
    "model.fit(train_tensors, train_targets, validation_data=(valid_tensors,\n",
    "                                                         valid_targets),\n",
    "          epochs=epochs, batch_size=20, callbacks=[checkpointer], verbose=1)"
   ]
  },
  {
   "cell_type": "markdown",
   "metadata": {},
   "source": [
    "### Load the Model with the Best Validation Loss"
   ]
  },
  {
   "cell_type": "code",
   "execution_count": 23,
   "metadata": {
    "pycharm": {
     "is_executing": true
    }
   },
   "outputs": [],
   "source": [
    "model.load_weights('saved_models/weights.best.from_scratch.hdf5')"
   ]
  },
  {
   "cell_type": "markdown",
   "metadata": {},
   "source": [
    "### Test the Model\n",
    "\n",
    "Try out your model on the test dataset of dog images.  Ensure that your test accuracy is greater than 1%."
   ]
  },
  {
   "cell_type": "code",
   "execution_count": 24,
   "metadata": {},
   "outputs": [
    {
     "name": "stdout",
     "output_type": "stream",
     "text": [
      "Test accuracy: 10.2871%\n"
     ]
    }
   ],
   "source": [
    "# get index of predicted dog breed for each image in test set\n",
    "dog_breed_predictions = [np.argmax(model.predict(\n",
    "    np.expand_dims(tensor, axis=0))) for tensor in test_tensors]\n",
    "\n",
    "# report test accuracy\n",
    "test_accuracy = 100 * np.sum(np.array(dog_breed_predictions) == np.argmax\n",
    "(test_targets, axis=1))/len(dog_breed_predictions)\n",
    "print(f'Test accuracy: {test_accuracy:.4f}%' )"
   ]
  },
  {
   "cell_type": "markdown",
   "metadata": {},
   "source": [
    "---\n",
    "<a id='step4'></a>\n",
    "## Step 4: Use a CNN to Classify Dog Breeds\n",
    "\n",
    "To reduce training time without sacrificing accuracy, we show you how to train a CNN using transfer learning.  In the following step, you will get a chance to use transfer learning to train your own CNN.\n",
    "\n",
    "### Obtain Bottleneck Features"
   ]
  },
  {
   "cell_type": "code",
   "execution_count": 25,
   "metadata": {},
   "outputs": [],
   "source": [
    "bottleneck_features = np.load('bottleneck_features/DogVGG16Data.npz')\n",
    "train_VGG16 = bottleneck_features['train']\n",
    "valid_VGG16 = bottleneck_features['valid']\n",
    "test_VGG16 = bottleneck_features['test']"
   ]
  },
  {
   "cell_type": "markdown",
   "metadata": {},
   "source": [
    "### Model Architecture\n",
    "\n",
    "The model uses the the pre-trained VGG-16 model as a fixed feature extractor, where the last convolutional output of VGG-16 is fed as input to our model.  We only add a global average pooling layer and a fully connected layer, where the latter contains one node for each dog category and is equipped with a softmax."
   ]
  },
  {
   "cell_type": "code",
   "execution_count": 26,
   "metadata": {},
   "outputs": [
    {
     "name": "stdout",
     "output_type": "stream",
     "text": [
      "Model: \"sequential_2\"\n",
      "_________________________________________________________________\n",
      "Layer (type)                 Output Shape              Param #   \n",
      "=================================================================\n",
      "global_average_pooling2d_1 ( (None, 512)               0         \n",
      "_________________________________________________________________\n",
      "dense_3 (Dense)              (None, 133)               68229     \n",
      "=================================================================\n",
      "Total params: 68,229\n",
      "Trainable params: 68,229\n",
      "Non-trainable params: 0\n",
      "_________________________________________________________________\n"
     ]
    }
   ],
   "source": [
    "VGG16_model = Sequential()\n",
    "VGG16_model.add(GlobalAveragePooling2D(input_shape=train_VGG16.shape[1:]))\n",
    "VGG16_model.add(Dense(133, activation='softmax'))\n",
    "\n",
    "VGG16_model.summary()"
   ]
  },
  {
   "cell_type": "markdown",
   "metadata": {},
   "source": [
    "### Compile the Model"
   ]
  },
  {
   "cell_type": "code",
   "execution_count": 27,
   "metadata": {},
   "outputs": [],
   "source": [
    "VGG16_model.compile(loss='categorical_crossentropy', optimizer='rmsprop',\n",
    "                    metrics=['accuracy'])"
   ]
  },
  {
   "cell_type": "markdown",
   "metadata": {},
   "source": [
    "### Train the Model"
   ]
  },
  {
   "cell_type": "code",
   "execution_count": 28,
   "metadata": {},
   "outputs": [
    {
     "name": "stdout",
     "output_type": "stream",
     "text": [
      "Train on 6680 samples, validate on 835 samples\n",
      "Epoch 1/20\n",
      "6680/6680 [==============================] - 2s 341us/step - loss: 11.9642 - accuracy: 0.1317 - val_loss: 10.2584 - val_accuracy: 0.2395\n",
      "\n",
      "Epoch 00001: val_loss improved from inf to 10.25836, saving model to saved_models/weights.best.VGG16.hdf5\n",
      "Epoch 2/20\n",
      "6680/6680 [==============================] - 2s 279us/step - loss: 9.6895 - accuracy: 0.3069 - val_loss: 9.6851 - val_accuracy: 0.3054\n",
      "\n",
      "Epoch 00002: val_loss improved from 10.25836 to 9.68513, saving model to saved_models/weights.best.VGG16.hdf5\n",
      "Epoch 3/20\n",
      "6680/6680 [==============================] - 2s 272us/step - loss: 9.1956 - accuracy: 0.3689 - val_loss: 9.2899 - val_accuracy: 0.3461\n",
      "\n",
      "Epoch 00003: val_loss improved from 9.68513 to 9.28988, saving model to saved_models/weights.best.VGG16.hdf5\n",
      "Epoch 4/20\n",
      "6680/6680 [==============================] - 2s 272us/step - loss: 8.8192 - accuracy: 0.4013 - val_loss: 9.1121 - val_accuracy: 0.3425\n",
      "\n",
      "Epoch 00004: val_loss improved from 9.28988 to 9.11208, saving model to saved_models/weights.best.VGG16.hdf5\n",
      "Epoch 5/20\n",
      "6680/6680 [==============================] - 2s 271us/step - loss: 8.4886 - accuracy: 0.4322 - val_loss: 8.8291 - val_accuracy: 0.3677\n",
      "\n",
      "Epoch 00005: val_loss improved from 9.11208 to 8.82909, saving model to saved_models/weights.best.VGG16.hdf5\n",
      "Epoch 6/20\n",
      "6680/6680 [==============================] - 2s 277us/step - loss: 8.3231 - accuracy: 0.4536 - val_loss: 8.6777 - val_accuracy: 0.3976\n",
      "\n",
      "Epoch 00006: val_loss improved from 8.82909 to 8.67774, saving model to saved_models/weights.best.VGG16.hdf5\n",
      "Epoch 7/20\n",
      "6680/6680 [==============================] - 2s 270us/step - loss: 8.2385 - accuracy: 0.4678 - val_loss: 8.6993 - val_accuracy: 0.3868\n",
      "\n",
      "Epoch 00007: val_loss did not improve from 8.67774\n",
      "Epoch 8/20\n",
      "6680/6680 [==============================] - 2s 298us/step - loss: 8.1095 - accuracy: 0.4725 - val_loss: 8.5431 - val_accuracy: 0.3964\n",
      "\n",
      "Epoch 00008: val_loss improved from 8.67774 to 8.54312, saving model to saved_models/weights.best.VGG16.hdf5\n",
      "Epoch 9/20\n",
      "6680/6680 [==============================] - 2s 292us/step - loss: 7.9430 - accuracy: 0.4832 - val_loss: 8.4487 - val_accuracy: 0.3952\n",
      "\n",
      "Epoch 00009: val_loss improved from 8.54312 to 8.44871, saving model to saved_models/weights.best.VGG16.hdf5\n",
      "Epoch 10/20\n",
      "6680/6680 [==============================] - 2s 284us/step - loss: 7.8262 - accuracy: 0.4943 - val_loss: 8.4074 - val_accuracy: 0.3892\n",
      "\n",
      "Epoch 00010: val_loss improved from 8.44871 to 8.40737, saving model to saved_models/weights.best.VGG16.hdf5\n",
      "Epoch 11/20\n",
      "6680/6680 [==============================] - 2s 291us/step - loss: 7.7415 - accuracy: 0.5036 - val_loss: 8.3563 - val_accuracy: 0.4192\n",
      "\n",
      "Epoch 00011: val_loss improved from 8.40737 to 8.35632, saving model to saved_models/weights.best.VGG16.hdf5\n",
      "Epoch 12/20\n",
      "6680/6680 [==============================] - 2s 274us/step - loss: 7.7101 - accuracy: 0.5108 - val_loss: 8.3756 - val_accuracy: 0.4048\n",
      "\n",
      "Epoch 00012: val_loss did not improve from 8.35632\n",
      "Epoch 13/20\n",
      "6680/6680 [==============================] - 2s 325us/step - loss: 7.6858 - accuracy: 0.5144 - val_loss: 8.2599 - val_accuracy: 0.4144\n",
      "\n",
      "Epoch 00013: val_loss improved from 8.35632 to 8.25992, saving model to saved_models/weights.best.VGG16.hdf5\n",
      "Epoch 14/20\n",
      "6680/6680 [==============================] - 2s 294us/step - loss: 7.4421 - accuracy: 0.5184 - val_loss: 7.9907 - val_accuracy: 0.4311\n",
      "\n",
      "Epoch 00014: val_loss improved from 8.25992 to 7.99069, saving model to saved_models/weights.best.VGG16.hdf5\n",
      "Epoch 15/20\n",
      "6680/6680 [==============================] - 2s 285us/step - loss: 7.2274 - accuracy: 0.5358 - val_loss: 7.8721 - val_accuracy: 0.4407\n",
      "\n",
      "Epoch 00015: val_loss improved from 7.99069 to 7.87212, saving model to saved_models/weights.best.VGG16.hdf5\n",
      "Epoch 16/20\n",
      "6680/6680 [==============================] - 2s 310us/step - loss: 7.1729 - accuracy: 0.5457 - val_loss: 7.9713 - val_accuracy: 0.4335\n",
      "\n",
      "Epoch 00016: val_loss did not improve from 7.87212\n",
      "Epoch 17/20\n",
      "6680/6680 [==============================] - 2s 293us/step - loss: 7.1554 - accuracy: 0.5491 - val_loss: 7.9194 - val_accuracy: 0.4431\n",
      "\n",
      "Epoch 00017: val_loss did not improve from 7.87212\n",
      "Epoch 18/20\n",
      "6680/6680 [==============================] - 2s 293us/step - loss: 7.1400 - accuracy: 0.5527 - val_loss: 7.9084 - val_accuracy: 0.4503\n",
      "\n",
      "Epoch 00018: val_loss did not improve from 7.87212\n",
      "Epoch 19/20\n",
      "6680/6680 [==============================] - 2s 300us/step - loss: 7.1235 - accuracy: 0.5540 - val_loss: 7.8887 - val_accuracy: 0.4479\n",
      "\n",
      "Epoch 00019: val_loss did not improve from 7.87212\n",
      "Epoch 20/20\n",
      "6680/6680 [==============================] - 2s 320us/step - loss: 7.0330 - accuracy: 0.5558 - val_loss: 7.8049 - val_accuracy: 0.4611\n",
      "\n",
      "Epoch 00020: val_loss improved from 7.87212 to 7.80493, saving model to saved_models/weights.best.VGG16.hdf5\n"
     ]
    },
    {
     "data": {
      "text/plain": [
       "<keras.callbacks.callbacks.History at 0x21863c6b108>"
      ]
     },
     "execution_count": 28,
     "metadata": {},
     "output_type": "execute_result"
    }
   ],
   "source": [
    "checkpointer = ModelCheckpoint(filepath='saved_models/weights.best.VGG16.hdf5',\n",
    "                               verbose=1, save_best_only=True)\n",
    "\n",
    "VGG16_model.fit(train_VGG16, train_targets,\n",
    "                validation_data=(valid_VGG16, valid_targets),\n",
    "                epochs=20, batch_size=20, callbacks=[checkpointer], verbose=1)"
   ]
  },
  {
   "cell_type": "markdown",
   "metadata": {},
   "source": [
    "### Load the Model with the Best Validation Loss"
   ]
  },
  {
   "cell_type": "code",
   "execution_count": 29,
   "metadata": {},
   "outputs": [],
   "source": [
    "VGG16_model.load_weights('saved_models/weights.best.VGG16.hdf5')"
   ]
  },
  {
   "cell_type": "markdown",
   "metadata": {},
   "source": [
    "### Test the Model\n",
    "\n",
    "Now, we can use the CNN to test how well it identifies breed within our test dataset of dog images.  We print the test accuracy below."
   ]
  },
  {
   "cell_type": "code",
   "execution_count": 30,
   "metadata": {},
   "outputs": [
    {
     "name": "stdout",
     "output_type": "stream",
     "text": [
      "Test accuracy: 46.1722%\n"
     ]
    }
   ],
   "source": [
    "# get index of predicted dog breed for each image in test set\n",
    "VGG16_predictions = [np.argmax(VGG16_model.predict(\n",
    "    np.expand_dims(feature, axis=0))) for feature in test_VGG16]\n",
    "\n",
    "# report test accuracy\n",
    "test_accuracy = 100 * np.sum(np.array(VGG16_predictions) == np.argmax\n",
    "(test_targets, axis=1))/len(VGG16_predictions)\n",
    "print(f'Test accuracy: {test_accuracy:.4f}%' )"
   ]
  },
  {
   "cell_type": "markdown",
   "metadata": {},
   "source": [
    "### Predict Dog Breed with the Model"
   ]
  },
  {
   "cell_type": "code",
   "execution_count": 31,
   "metadata": {},
   "outputs": [],
   "source": [
    "def VGG16_predict_breed(img_path):\n",
    "    \"\"\"\n",
    "    This function takes a path to an image as input and returns the dog breed that is predicted by the model.\n",
    "\n",
    "    Parameter:\n",
    "    img_path: the path of the image user wants to identify the possible dog breed\n",
    "\n",
    "    Returns:\n",
    "    The possible dog breed (name from the dog_names list) predicted\n",
    "    \"\"\"\n",
    "    # extract bottleneck features\n",
    "    bottleneck_feature = extract_VGG16(path_to_tensor(img_path))\n",
    "    # obtain predicted vector\n",
    "    predicted_vector = VGG16_model.predict(bottleneck_feature)\n",
    "    # return dog breed that is predicted by the model\n",
    "    return dog_names[np.argmax(predicted_vector)]"
   ]
  },
  {
   "cell_type": "markdown",
   "metadata": {},
   "source": [
    "---\n",
    "<a id='step5'></a>\n",
    "## Step 5: Create a CNN to Classify Dog Breeds (using Transfer Learning)\n",
    "\n",
    "You will now use transfer learning to create a CNN that can identify dog breed from images.  Your CNN must attain at least 60% accuracy on the test set.\n",
    "\n",
    "In Step 4, we used transfer learning to create a CNN using VGG-16 bottleneck features.  In this section, you must use the bottleneck features from a different pre-trained model.  To make things easier for you, we have pre-computed the features for all of the networks that are currently available in Keras:\n",
    "- [VGG-19](https://s3-us-west-1.amazonaws.com/udacity-aind/dog-project/DogVGG19Data.npz) bottleneck features\n",
    "- [ResNet-50](https://s3-us-west-1.amazonaws.com/udacity-aind/dog-project/DogResnet50Data.npz) bottleneck features\n",
    "- [Inception](https://s3-us-west-1.amazonaws.com/udacity-aind/dog-project/DogInceptionV3Data.npz) bottleneck features\n",
    "- [Xception](https://s3-us-west-1.amazonaws.com/udacity-aind/dog-project/DogXceptionData.npz) bottleneck features\n",
    "\n",
    "The files are encoded as such:\n",
    "\n",
    "    Dog{network}Data.npz\n",
    "    \n",
    "where `{network}`, in the above filename, can be one of `VGG19`, `Resnet50`, `InceptionV3`, or `Xception`.  Pick one of the above architectures, download the corresponding bottleneck features, and store the downloaded file in the `bottleneck_features/` folder in the repository.\n",
    "\n",
    "### (IMPLEMENTATION) Obtain Bottleneck Features\n",
    "\n",
    "In the code block below, extract the bottleneck features corresponding to the train, test, and validation sets by running the following:\n",
    "\n",
    "    bottleneck_features = np.load('bottleneck_features/Dog{network}Data.npz')\n",
    "    train_{network} = bottleneck_features['train']\n",
    "    valid_{network} = bottleneck_features['valid']\n",
    "    test_{network} = bottleneck_features['test']"
   ]
  },
  {
   "cell_type": "code",
   "execution_count": 37,
   "metadata": {},
   "outputs": [],
   "source": [
    "bottleneck_features = np.load('bottleneck_features/DogVGG16Data.npz')\n",
    "train_Xception = bottleneck_features['train']\n",
    "valid_Xception = bottleneck_features['valid']\n",
    "test_Xception = bottleneck_features['test']"
   ]
  },
  {
   "cell_type": "markdown",
   "metadata": {},
   "source": [
    "### (IMPLEMENTATION) Model Architecture\n",
    "\n",
    "Create a CNN to classify dog breed.  At the end of your code cell block, summarize the layers of your model by executing the line:\n",
    "    \n",
    "        <your model's name>.summary()\n",
    "   \n",
    "__Question 5:__ Outline the steps you took to get to your final CNN architecture and your reasoning at each step.  Describe why you think the architecture is suitable for the current problem.\n",
    "\n",
    "__Answer:__ \n",
    "\n",
    "I use the bottleneck features from Xception pre-trained model. The output of the last convolutional layer of Xception model is fed as input to my model. A global average pooling is used to generate one feature map for each corresponding category. After that, the fully connected layer contains one node for each dog breed is applied with a softmax activation function.\n",
    "\n",
    "Transfer learning is a machine learning technique where a model trained on one task is re-purposed on a second related task. Keras Xception is model for image classification with weights trained on ImageNet. Our data set is smaller data set which is similar with ImageNet. So the general features are useful to analyzing image in our dataset. By doing that we can saving a lot of training time & tuning effort comparing to constructing a CNN from scratch. So the architecture is suitable for the current problem.\n",
    "\n"
   ]
  },
  {
   "cell_type": "code",
   "execution_count": 38,
   "metadata": {},
   "outputs": [
    {
     "name": "stdout",
     "output_type": "stream",
     "text": [
      "Model: \"sequential_4\"\n",
      "_________________________________________________________________\n",
      "Layer (type)                 Output Shape              Param #   \n",
      "=================================================================\n",
      "global_average_pooling2d_2 ( (None, 512)               0         \n",
      "_________________________________________________________________\n",
      "dense_4 (Dense)              (None, 133)               68229     \n",
      "=================================================================\n",
      "Total params: 68,229\n",
      "Trainable params: 68,229\n",
      "Non-trainable params: 0\n",
      "_________________________________________________________________\n"
     ]
    }
   ],
   "source": [
    "Xception_model = Sequential()\n",
    "Xception_model.add(GlobalAveragePooling2D(input_shape=train_Xception.shape[1:]))\n",
    "Xception_model.add(Dense(133, activation='softmax'))\n",
    "\n",
    "Xception_model.summary()"
   ]
  },
  {
   "cell_type": "markdown",
   "metadata": {},
   "source": [
    "### (IMPLEMENTATION) Compile the Model"
   ]
  },
  {
   "cell_type": "code",
   "execution_count": 39,
   "metadata": {},
   "outputs": [],
   "source": [
    "Xception_model.compile(loss='categorical_crossentropy', optimizer='rmsprop',\n",
    "                       metrics=['accuracy'])"
   ]
  },
  {
   "cell_type": "markdown",
   "metadata": {},
   "source": [
    "### (IMPLEMENTATION) Train the Model\n",
    "\n",
    "Train your model in the code cell below.  Use model checkpointing to save the model that attains the best validation loss.  \n",
    "\n",
    "You are welcome to [augment the training data](https://blog.keras.io/building-powerful-image-classification-models-using-very-little-data.html), but this is not a requirement. "
   ]
  },
  {
   "cell_type": "code",
   "execution_count": 40,
   "metadata": {},
   "outputs": [
    {
     "name": "stdout",
     "output_type": "stream",
     "text": [
      "Train on 6680 samples, validate on 835 samples\n",
      "Epoch 1/20\n",
      "6680/6680 [==============================] - 3s 415us/step - loss: 11.7274 - accuracy: 0.1424 - val_loss: 10.1999 - val_accuracy: 0.2204\n",
      "\n",
      "Epoch 00001: val_loss improved from inf to 10.19986, saving model to saved_models/weights.best.Xception.hdf5\n",
      "Epoch 2/20\n",
      "6680/6680 [==============================] - 2s 266us/step - loss: 9.2928 - accuracy: 0.3078 - val_loss: 9.2366 - val_accuracy: 0.2994\n",
      "\n",
      "Epoch 00002: val_loss improved from 10.19986 to 9.23656, saving model to saved_models/weights.best.Xception.hdf5\n",
      "Epoch 3/20\n",
      "6680/6680 [==============================] - 2s 268us/step - loss: 8.6521 - accuracy: 0.3856 - val_loss: 8.9048 - val_accuracy: 0.3593\n",
      "\n",
      "Epoch 00003: val_loss improved from 9.23656 to 8.90481, saving model to saved_models/weights.best.Xception.hdf5\n",
      "Epoch 4/20\n",
      "6680/6680 [==============================] - 2s 320us/step - loss: 8.2924 - accuracy: 0.4211 - val_loss: 8.8279 - val_accuracy: 0.3521\n",
      "\n",
      "Epoch 00004: val_loss improved from 8.90481 to 8.82788, saving model to saved_models/weights.best.Xception.hdf5\n",
      "Epoch 5/20\n",
      "6680/6680 [==============================] - 2s 321us/step - loss: 8.0991 - accuracy: 0.4496 - val_loss: 8.6660 - val_accuracy: 0.3749\n",
      "\n",
      "Epoch 00005: val_loss improved from 8.82788 to 8.66599, saving model to saved_models/weights.best.Xception.hdf5\n",
      "Epoch 6/20\n",
      "6680/6680 [==============================] - 2s 267us/step - loss: 7.9542 - accuracy: 0.4687 - val_loss: 8.5405 - val_accuracy: 0.3988\n",
      "\n",
      "Epoch 00006: val_loss improved from 8.66599 to 8.54047, saving model to saved_models/weights.best.Xception.hdf5\n",
      "Epoch 7/20\n",
      "6680/6680 [==============================] - 2s 269us/step - loss: 7.8809 - accuracy: 0.4837 - val_loss: 8.5913 - val_accuracy: 0.3784\n",
      "\n",
      "Epoch 00007: val_loss did not improve from 8.54047\n",
      "Epoch 8/20\n",
      "6680/6680 [==============================] - 2s 275us/step - loss: 7.6436 - accuracy: 0.4943 - val_loss: 8.3213 - val_accuracy: 0.4060\n",
      "\n",
      "Epoch 00008: val_loss improved from 8.54047 to 8.32131, saving model to saved_models/weights.best.Xception.hdf5\n",
      "Epoch 9/20\n",
      "6680/6680 [==============================] - 2s 277us/step - loss: 7.4666 - accuracy: 0.5118 - val_loss: 8.3830 - val_accuracy: 0.3952\n",
      "\n",
      "Epoch 00009: val_loss did not improve from 8.32131\n",
      "Epoch 10/20\n",
      "6680/6680 [==============================] - 2s 280us/step - loss: 7.3978 - accuracy: 0.5247 - val_loss: 8.1875 - val_accuracy: 0.4192\n",
      "\n",
      "Epoch 00010: val_loss improved from 8.32131 to 8.18754, saving model to saved_models/weights.best.Xception.hdf5\n",
      "Epoch 11/20\n",
      "6680/6680 [==============================] - 2s 271us/step - loss: 7.3619 - accuracy: 0.5302 - val_loss: 8.2627 - val_accuracy: 0.4000\n",
      "\n",
      "Epoch 00011: val_loss did not improve from 8.18754\n",
      "Epoch 12/20\n",
      "6680/6680 [==============================] - 2s 278us/step - loss: 7.1592 - accuracy: 0.5355 - val_loss: 7.9869 - val_accuracy: 0.4216\n",
      "\n",
      "Epoch 00012: val_loss improved from 8.18754 to 7.98691, saving model to saved_models/weights.best.Xception.hdf5\n",
      "Epoch 13/20\n",
      "6680/6680 [==============================] - 2s 343us/step - loss: 7.0241 - accuracy: 0.5503 - val_loss: 7.9347 - val_accuracy: 0.4240\n",
      "\n",
      "Epoch 00013: val_loss improved from 7.98691 to 7.93467, saving model to saved_models/weights.best.Xception.hdf5\n",
      "Epoch 14/20\n",
      "6680/6680 [==============================] - 2s 282us/step - loss: 6.9705 - accuracy: 0.5551 - val_loss: 7.8528 - val_accuracy: 0.4371\n",
      "\n",
      "Epoch 00014: val_loss improved from 7.93467 to 7.85281, saving model to saved_models/weights.best.Xception.hdf5\n",
      "Epoch 15/20\n",
      "6680/6680 [==============================] - 2s 285us/step - loss: 6.9019 - accuracy: 0.5588 - val_loss: 7.7838 - val_accuracy: 0.4335\n",
      "\n",
      "Epoch 00015: val_loss improved from 7.85281 to 7.78382, saving model to saved_models/weights.best.Xception.hdf5\n",
      "Epoch 16/20\n",
      "6680/6680 [==============================] - 2s 307us/step - loss: 6.7057 - accuracy: 0.5681 - val_loss: 7.6093 - val_accuracy: 0.4371\n",
      "\n",
      "Epoch 00016: val_loss improved from 7.78382 to 7.60933, saving model to saved_models/weights.best.Xception.hdf5\n",
      "Epoch 17/20\n",
      "6680/6680 [==============================] - 2s 293us/step - loss: 6.4373 - accuracy: 0.5760 - val_loss: 7.5778 - val_accuracy: 0.4467\n",
      "\n",
      "Epoch 00017: val_loss improved from 7.60933 to 7.57778, saving model to saved_models/weights.best.Xception.hdf5\n",
      "Epoch 18/20\n",
      "6680/6680 [==============================] - 2s 293us/step - loss: 6.3207 - accuracy: 0.5885 - val_loss: 7.3464 - val_accuracy: 0.4563\n",
      "\n",
      "Epoch 00018: val_loss improved from 7.57778 to 7.34639, saving model to saved_models/weights.best.Xception.hdf5\n",
      "Epoch 19/20\n",
      "6680/6680 [==============================] - 2s 292us/step - loss: 6.2280 - accuracy: 0.5967 - val_loss: 7.3063 - val_accuracy: 0.4695\n",
      "\n",
      "Epoch 00019: val_loss improved from 7.34639 to 7.30630, saving model to saved_models/weights.best.Xception.hdf5\n",
      "Epoch 20/20\n",
      "6680/6680 [==============================] - 3s 375us/step - loss: 6.1616 - accuracy: 0.6036 - val_loss: 7.2263 - val_accuracy: 0.4874\n",
      "\n",
      "Epoch 00020: val_loss improved from 7.30630 to 7.22634, saving model to saved_models/weights.best.Xception.hdf5\n"
     ]
    },
    {
     "data": {
      "text/plain": [
       "<keras.callbacks.callbacks.History at 0x21805e1bf08>"
      ]
     },
     "execution_count": 40,
     "metadata": {},
     "output_type": "execute_result"
    }
   ],
   "source": [
    "checkpointer = ModelCheckpoint(filepath='saved_models/weights.best.Xception.hdf5',\n",
    "                               verbose=1, save_best_only=True)\n",
    "\n",
    "Xception_model.fit(train_Xception, train_targets,\n",
    "                   validation_data=(valid_Xception, valid_targets),\n",
    "                   epochs=20, batch_size=20, callbacks=[checkpointer], verbose=1)"
   ]
  },
  {
   "cell_type": "markdown",
   "metadata": {},
   "source": [
    "### (IMPLEMENTATION) Load the Model with the Best Validation Loss"
   ]
  },
  {
   "cell_type": "code",
   "execution_count": 41,
   "metadata": {},
   "outputs": [],
   "source": [
    "Xception_model.load_weights('saved_models/weights.best.Xception.hdf5')"
   ]
  },
  {
   "cell_type": "markdown",
   "metadata": {},
   "source": [
    "### (IMPLEMENTATION) Test the Model\n",
    "\n",
    "Try out your model on the test dataset of dog images. Ensure that your test accuracy is greater than 60%."
   ]
  },
  {
   "cell_type": "code",
   "execution_count": 42,
   "metadata": {},
   "outputs": [
    {
     "name": "stdout",
     "output_type": "stream",
     "text": [
      "Test accuracy: 47.0096%\n"
     ]
    }
   ],
   "source": [
    "Xception_predictions = [np.argmax(Xception_model.predict(\n",
    "    np.expand_dims(feature, axis=0))) for feature in test_Xception]\n",
    "\n",
    "# report test accuracy\n",
    "test_accuracy = 100*np.sum(np.array(Xception_predictions) == np.argmax\n",
    "(test_targets, axis=1))/len(Xception_predictions)\n",
    "print(f'Test accuracy: {test_accuracy:.4f}%' )"
   ]
  },
  {
   "cell_type": "markdown",
   "metadata": {},
   "source": [
    "### (IMPLEMENTATION) Predict Dog Breed with the Model\n",
    "\n",
    "Write a function that takes an image path as input and returns the dog breed (`Affenpinscher`, `Afghan_hound`, etc) that is predicted by your model.  \n",
    "\n",
    "Similar to the analogous function in Step 5, your function should have three steps:\n",
    "1. Extract the bottleneck features corresponding to the chosen CNN model.\n",
    "2. Supply the bottleneck features as input to the model to return the predicted vector.  Note that the argmax of this prediction vector gives the index of the predicted dog breed.\n",
    "3. Use the `dog_names` array defined in Step 0 of this notebook to return the corresponding breed.\n",
    "\n",
    "The functions to extract the bottleneck features can be found in `extract_bottleneck_features.py`, and they have been imported in an earlier code cell.  To obtain the bottleneck features corresponding to your chosen CNN architecture, you need to use the function\n",
    "\n",
    "    extract_{network}\n",
    "    \n",
    "where `{network}`, in the above filename, should be one of `VGG19`, `Resnet50`, `InceptionV3`, or `Xception`."
   ]
  },
  {
   "cell_type": "code",
   "execution_count": 43,
   "metadata": {},
   "outputs": [],
   "source": [
    "from extract_bottleneck_features import *\n",
    "\n",
    "def Xception_predict_breed(img_path):\n",
    "    \"\"\"\n",
    "    This function takes a path to an image as input and returns the dog breed that is predicted by the model.\n",
    "\n",
    "    Parameter:\n",
    "    img_path: the path of the image user wants to identify the possible dog breed\n",
    "\n",
    "    Returns:\n",
    "    The possible dog breed (name from the dog_names list) predicted\n",
    "    \"\"\"\n",
    "    # extract bottleneck features\n",
    "    bottleneck_feature = extract_Xception(path_to_tensor(img_path))\n",
    "    # obtain predicted vector\n",
    "    predicted_vector = Xception_model.predict(bottleneck_feature)\n",
    "    # return dog breed that is predicted by the model\n",
    "    return dog_names[np.argmax(predicted_vector)]"
   ]
  },
  {
   "cell_type": "markdown",
   "metadata": {},
   "source": [
    "## For App: Create a CNN to Classify Dog Breeds (using Transfer Learning) ##\n",
    "#### Using ResNet-50 bottleneck features ####"
   ]
  },
  {
   "cell_type": "code",
   "execution_count": 45,
   "metadata": {},
   "outputs": [],
   "source": [
    "bottleneck_features = np.load('bottleneck_features/DogVGG16Data.npz')\n",
    "train_Resnet50 = bottleneck_features['train']\n",
    "valid_Resnet50 = bottleneck_features['valid']\n",
    "test_Resnet50 = bottleneck_features['test']"
   ]
  },
  {
   "cell_type": "code",
   "execution_count": 46,
   "metadata": {},
   "outputs": [
    {
     "name": "stdout",
     "output_type": "stream",
     "text": [
      "Model: \"sequential_5\"\n",
      "_________________________________________________________________\n",
      "Layer (type)                 Output Shape              Param #   \n",
      "=================================================================\n",
      "global_average_pooling2d_3 ( (None, 512)               0         \n",
      "_________________________________________________________________\n",
      "dense_5 (Dense)              (None, 133)               68229     \n",
      "=================================================================\n",
      "Total params: 68,229\n",
      "Trainable params: 68,229\n",
      "Non-trainable params: 0\n",
      "_________________________________________________________________\n"
     ]
    }
   ],
   "source": [
    "from keras.layers import GlobalAveragePooling2D\n",
    "from keras.layers import Dense\n",
    "from keras.models import Sequential\n",
    "\n",
    "Resnet50_model = Sequential()\n",
    "Resnet50_model.add(GlobalAveragePooling2D(input_shape=train_Resnet50.shape[1:]))\n",
    "Resnet50_model.add(Dense(133, activation='softmax'))\n",
    "\n",
    "Resnet50_model.summary()"
   ]
  },
  {
   "cell_type": "code",
   "execution_count": 47,
   "metadata": {},
   "outputs": [],
   "source": [
    "Resnet50_model.compile(loss='categorical_crossentropy', optimizer='rmsprop', \n",
    "                       metrics=['accuracy'])"
   ]
  },
  {
   "cell_type": "code",
   "execution_count": 48,
   "metadata": {},
   "outputs": [
    {
     "name": "stdout",
     "output_type": "stream",
     "text": [
      "Train on 6680 samples, validate on 835 samples\n",
      "Epoch 1/20\n",
      "6680/6680 [==============================] - 2s 372us/step - loss: 12.2364 - accuracy: 0.1172 - val_loss: 10.7791 - val_accuracy: 0.2024\n",
      "\n",
      "Epoch 00001: val_loss improved from inf to 10.77913, saving model to saved_models/weights.best.Resnet50.hdf5\n",
      "Epoch 2/20\n",
      "6680/6680 [==============================] - 2s 284us/step - loss: 9.8499 - accuracy: 0.2891 - val_loss: 9.6512 - val_accuracy: 0.3030\n",
      "\n",
      "Epoch 00002: val_loss improved from 10.77913 to 9.65125, saving model to saved_models/weights.best.Resnet50.hdf5\n",
      "Epoch 3/20\n",
      "6680/6680 [==============================] - 2s 280us/step - loss: 9.1687 - accuracy: 0.3590 - val_loss: 9.4810 - val_accuracy: 0.3174\n",
      "\n",
      "Epoch 00003: val_loss improved from 9.65125 to 9.48100, saving model to saved_models/weights.best.Resnet50.hdf5\n",
      "Epoch 4/20\n",
      "6680/6680 [==============================] - 2s 271us/step - loss: 8.8575 - accuracy: 0.3970 - val_loss: 9.3180 - val_accuracy: 0.3329\n",
      "\n",
      "Epoch 00004: val_loss improved from 9.48100 to 9.31800, saving model to saved_models/weights.best.Resnet50.hdf5\n",
      "Epoch 5/20\n",
      "6680/6680 [==============================] - 2s 275us/step - loss: 8.6668 - accuracy: 0.4205 - val_loss: 9.0270 - val_accuracy: 0.3545\n",
      "\n",
      "Epoch 00005: val_loss improved from 9.31800 to 9.02701, saving model to saved_models/weights.best.Resnet50.hdf5\n",
      "Epoch 6/20\n",
      "6680/6680 [==============================] - 2s 270us/step - loss: 8.5176 - accuracy: 0.4394 - val_loss: 9.1289 - val_accuracy: 0.3473\n",
      "\n",
      "Epoch 00006: val_loss did not improve from 9.02701\n",
      "Epoch 7/20\n",
      "6680/6680 [==============================] - 2s 302us/step - loss: 8.4017 - accuracy: 0.4512 - val_loss: 8.8470 - val_accuracy: 0.3641\n",
      "\n",
      "Epoch 00007: val_loss improved from 9.02701 to 8.84703, saving model to saved_models/weights.best.Resnet50.hdf5\n",
      "Epoch 8/20\n",
      "6680/6680 [==============================] - 2s 275us/step - loss: 8.2126 - accuracy: 0.4584 - val_loss: 8.7019 - val_accuracy: 0.3820\n",
      "\n",
      "Epoch 00008: val_loss improved from 8.84703 to 8.70187, saving model to saved_models/weights.best.Resnet50.hdf5\n",
      "Epoch 9/20\n",
      "6680/6680 [==============================] - 2s 329us/step - loss: 7.9819 - accuracy: 0.4737 - val_loss: 8.5462 - val_accuracy: 0.3832\n",
      "\n",
      "Epoch 00009: val_loss improved from 8.70187 to 8.54619, saving model to saved_models/weights.best.Resnet50.hdf5\n",
      "Epoch 10/20\n",
      "6680/6680 [==============================] - 2s 327us/step - loss: 7.8526 - accuracy: 0.4865 - val_loss: 8.4012 - val_accuracy: 0.3928\n",
      "\n",
      "Epoch 00010: val_loss improved from 8.54619 to 8.40124, saving model to saved_models/weights.best.Resnet50.hdf5\n",
      "Epoch 11/20\n",
      "6680/6680 [==============================] - 2s 286us/step - loss: 7.6974 - accuracy: 0.5018 - val_loss: 8.3285 - val_accuracy: 0.3976\n",
      "\n",
      "Epoch 00011: val_loss improved from 8.40124 to 8.32848, saving model to saved_models/weights.best.Resnet50.hdf5\n",
      "Epoch 12/20\n",
      "6680/6680 [==============================] - 2s 276us/step - loss: 7.6315 - accuracy: 0.5088 - val_loss: 8.1831 - val_accuracy: 0.4120\n",
      "\n",
      "Epoch 00012: val_loss improved from 8.32848 to 8.18312, saving model to saved_models/weights.best.Resnet50.hdf5\n",
      "Epoch 13/20\n",
      "6680/6680 [==============================] - 2s 280us/step - loss: 7.4900 - accuracy: 0.5234 - val_loss: 8.1818 - val_accuracy: 0.4216\n",
      "\n",
      "Epoch 00013: val_loss improved from 8.18312 to 8.18184, saving model to saved_models/weights.best.Resnet50.hdf5\n",
      "Epoch 14/20\n",
      "6680/6680 [==============================] - 2s 289us/step - loss: 7.4169 - accuracy: 0.5271 - val_loss: 8.1415 - val_accuracy: 0.4240\n",
      "\n",
      "Epoch 00014: val_loss improved from 8.18184 to 8.14150, saving model to saved_models/weights.best.Resnet50.hdf5\n",
      "Epoch 15/20\n",
      "6680/6680 [==============================] - 2s 331us/step - loss: 7.3564 - accuracy: 0.5308 - val_loss: 8.0610 - val_accuracy: 0.4287\n",
      "\n",
      "Epoch 00015: val_loss improved from 8.14150 to 8.06102, saving model to saved_models/weights.best.Resnet50.hdf5\n",
      "Epoch 16/20\n",
      "6680/6680 [==============================] - 2s 304us/step - loss: 7.3193 - accuracy: 0.5362 - val_loss: 8.0949 - val_accuracy: 0.4240\n",
      "\n",
      "Epoch 00016: val_loss did not improve from 8.06102\n",
      "Epoch 17/20\n",
      "6680/6680 [==============================] - 2s 296us/step - loss: 7.2504 - accuracy: 0.5392 - val_loss: 7.9128 - val_accuracy: 0.4311\n",
      "\n",
      "Epoch 00017: val_loss improved from 8.06102 to 7.91279, saving model to saved_models/weights.best.Resnet50.hdf5\n",
      "Epoch 18/20\n",
      "6680/6680 [==============================] - 2s 292us/step - loss: 7.0943 - accuracy: 0.5433 - val_loss: 7.8184 - val_accuracy: 0.4323\n",
      "\n",
      "Epoch 00018: val_loss improved from 7.91279 to 7.81838, saving model to saved_models/weights.best.Resnet50.hdf5\n",
      "Epoch 19/20\n",
      "6680/6680 [==============================] - 2s 296us/step - loss: 6.9417 - accuracy: 0.5513 - val_loss: 7.7542 - val_accuracy: 0.4371\n",
      "\n",
      "Epoch 00019: val_loss improved from 7.81838 to 7.75419, saving model to saved_models/weights.best.Resnet50.hdf5\n",
      "Epoch 20/20\n",
      "6680/6680 [==============================] - 2s 302us/step - loss: 6.8360 - accuracy: 0.5606 - val_loss: 7.5981 - val_accuracy: 0.4527\n",
      "\n",
      "Epoch 00020: val_loss improved from 7.75419 to 7.59811, saving model to saved_models/weights.best.Resnet50.hdf5\n"
     ]
    },
    {
     "data": {
      "text/plain": [
       "<keras.callbacks.callbacks.History at 0x21873652508>"
      ]
     },
     "execution_count": 48,
     "metadata": {},
     "output_type": "execute_result"
    }
   ],
   "source": [
    "from keras.callbacks import ModelCheckpoint\n",
    "\n",
    "checkpointer = ModelCheckpoint(filepath='saved_models/weights.best.Resnet50.hdf5',\n",
    "                               verbose=1, save_best_only=True)\n",
    "\n",
    "Resnet50_model.fit(train_Resnet50, train_targets,\n",
    "                   validation_data=(valid_Resnet50, valid_targets),\n",
    "                   epochs=20, batch_size=20, callbacks=[checkpointer], verbose=1)"
   ]
  },
  {
   "cell_type": "code",
   "execution_count": 49,
   "metadata": {},
   "outputs": [],
   "source": [
    "Resnet50_model.load_weights('saved_models/weights.best.Resnet50.hdf5')"
   ]
  },
  {
   "cell_type": "code",
   "execution_count": 50,
   "metadata": {},
   "outputs": [
    {
     "name": "stdout",
     "output_type": "stream",
     "text": [
      "Test accuracy: 44.1388%\n"
     ]
    }
   ],
   "source": [
    "Resnet50_predictions = [np.argmax(Resnet50_model.predict(\n",
    "    np.expand_dims(feature, axis=0))) for feature in test_Resnet50]\n",
    "\n",
    "# report test accuracy\n",
    "test_accuracy = 100 * np.sum(np.array(Resnet50_predictions) ==\n",
    "                           np.argmax(test_targets, axis=1))/len(Resnet50_predictions)\n",
    "print(f'Test accuracy: {test_accuracy:.4f}%' )"
   ]
  },
  {
   "cell_type": "markdown",
   "metadata": {},
   "source": [
    "---\n",
    "<a id='step6'></a>\n",
    "## Step 6: Write your Algorithm\n",
    "\n",
    "Write an algorithm that accepts a file path to an image and first determines whether the image contains a human, dog, or neither.  Then,\n",
    "- if a __dog__ is detected in the image, return the predicted breed.\n",
    "- if a __human__ is detected in the image, return the resembling dog breed.\n",
    "- if __neither__ is detected in the image, provide output that indicates an error.\n",
    "\n",
    "You are welcome to write your own functions for detecting humans and dogs in images, but feel free to use the `face_detector` and `dog_detector` functions developed above.  You are __required__ to use your CNN from Step 5 to predict dog breed.  \n",
    "\n",
    "A sample image and output for our algorithm is provided below, but feel free to design your own user experience!\n",
    "\n",
    "![Sample Human Output](images/sample_human_2.png)\n",
    "\n",
    "This photo looks like an Afghan Hound.\n",
    "### (IMPLEMENTATION) Write your Algorithm"
   ]
  },
  {
   "cell_type": "code",
   "execution_count": 51,
   "metadata": {},
   "outputs": [],
   "source": [
    "from IPython.core.display import Image, display\n",
    "\n",
    "\n",
    "def web_app(img_path):\n",
    "    \"\"\"\n",
    "    This function return the possible dog breed of the dog/human in the input image\n",
    "\n",
    "    Parameter:\n",
    "    img_path: the path of the image user wants to identify the possible dog breed\n",
    "\n",
    "    Returns:\n",
    "    A message indicates the possible dog breed of the dog/human in the input image\n",
    "    \"\"\"\n",
    "    display(Image(img_path, width=224, height=224))\n",
    "    if dog_detector(img_path):\n",
    "        print(f'This doggo looks like {Xception_predict_breed(img_path)}')\n",
    "    elif face_detector(img_path):\n",
    "        print('This human looks similar to {Xception_predict_breed(img_path)}')\n",
    "    else:\n",
    "        print('Err, No human or dog detected!')"
   ]
  },
  {
   "cell_type": "markdown",
   "metadata": {},
   "source": [
    "---\n",
    "<a id='step7'></a>\n",
    "## Step 7: Test Your Algorithm\n",
    "\n",
    "In this section, you will take your new algorithm for a spin!  What kind of dog does the algorithm think that __you__ look like?  If you have a dog, does it predict your dog's breed accurately?  If you have a cat, does it mistakenly think that your cat is a dog?\n",
    "\n",
    "### (IMPLEMENTATION) Test Your Algorithm on Sample Images!\n",
    "\n",
    "Test your algorithm at least six images on your computer.  Feel free to use any images you like.  Use at least two human and two dog images.  \n",
    "\n",
    "__Question 6:__ Is the output better than you expected :) ?  Or worse :( ?  Provide at least three possible points of improvement for your algorithm.\n",
    "\n",
    "__Answer:__ \n",
    "\n",
    "The output is not as good as my expected. The husky was detected as Alaskan malamute. But the algorithm is good enough to detect dogs or humans and report error without dog or human detected.\n",
    "\n",
    "Possible improvement points:\n",
    "\n",
    "1.Use data augmentation techniques that consisted of image translations, horizontal reflections, and mean subtraction.\n",
    "\n",
    "2.Add noise reduction step in image pre-process.\n",
    "\n",
    "3.Choose the face or detected dog part in image, and only apply the selected part of image to the algorithm. In this way, all the backgroud will not affect the prediction.\n"
   ]
  },
  {
   "cell_type": "code",
   "execution_count": 52,
   "metadata": {},
   "outputs": [
    {
     "ename": "FileNotFoundError",
     "evalue": "No such file or directory: 'image_myself/image1.jpg'",
     "output_type": "error",
     "traceback": [
      "\u001b[1;31m---------------------------------------------------------------------------\u001b[0m",
      "\u001b[1;31mTypeError\u001b[0m                                 Traceback (most recent call last)",
      "\u001b[1;32m~\\anaconda3\\lib\\site-packages\\IPython\\core\\display.py\u001b[0m in \u001b[0;36m_data_and_metadata\u001b[1;34m(self, always_both)\u001b[0m\n\u001b[0;32m   1292\u001b[0m         \u001b[1;32mtry\u001b[0m\u001b[1;33m:\u001b[0m\u001b[1;33m\u001b[0m\u001b[1;33m\u001b[0m\u001b[0m\n\u001b[1;32m-> 1293\u001b[1;33m             \u001b[0mb64_data\u001b[0m \u001b[1;33m=\u001b[0m \u001b[0mb2a_base64\u001b[0m\u001b[1;33m(\u001b[0m\u001b[0mself\u001b[0m\u001b[1;33m.\u001b[0m\u001b[0mdata\u001b[0m\u001b[1;33m)\u001b[0m\u001b[1;33m.\u001b[0m\u001b[0mdecode\u001b[0m\u001b[1;33m(\u001b[0m\u001b[1;34m'ascii'\u001b[0m\u001b[1;33m)\u001b[0m\u001b[1;33m\u001b[0m\u001b[1;33m\u001b[0m\u001b[0m\n\u001b[0m\u001b[0;32m   1294\u001b[0m         \u001b[1;32mexcept\u001b[0m \u001b[0mTypeError\u001b[0m\u001b[1;33m:\u001b[0m\u001b[1;33m\u001b[0m\u001b[1;33m\u001b[0m\u001b[0m\n",
      "\u001b[1;31mTypeError\u001b[0m: a bytes-like object is required, not 'str'",
      "\nDuring handling of the above exception, another exception occurred:\n",
      "\u001b[1;31mFileNotFoundError\u001b[0m                         Traceback (most recent call last)",
      "\u001b[1;32m~\\anaconda3\\lib\\site-packages\\IPython\\core\\formatters.py\u001b[0m in \u001b[0;36m__call__\u001b[1;34m(self, obj, include, exclude)\u001b[0m\n\u001b[0;32m    968\u001b[0m \u001b[1;33m\u001b[0m\u001b[0m\n\u001b[0;32m    969\u001b[0m             \u001b[1;32mif\u001b[0m \u001b[0mmethod\u001b[0m \u001b[1;32mis\u001b[0m \u001b[1;32mnot\u001b[0m \u001b[1;32mNone\u001b[0m\u001b[1;33m:\u001b[0m\u001b[1;33m\u001b[0m\u001b[1;33m\u001b[0m\u001b[0m\n\u001b[1;32m--> 970\u001b[1;33m                 \u001b[1;32mreturn\u001b[0m \u001b[0mmethod\u001b[0m\u001b[1;33m(\u001b[0m\u001b[0minclude\u001b[0m\u001b[1;33m=\u001b[0m\u001b[0minclude\u001b[0m\u001b[1;33m,\u001b[0m \u001b[0mexclude\u001b[0m\u001b[1;33m=\u001b[0m\u001b[0mexclude\u001b[0m\u001b[1;33m)\u001b[0m\u001b[1;33m\u001b[0m\u001b[1;33m\u001b[0m\u001b[0m\n\u001b[0m\u001b[0;32m    971\u001b[0m             \u001b[1;32mreturn\u001b[0m \u001b[1;32mNone\u001b[0m\u001b[1;33m\u001b[0m\u001b[1;33m\u001b[0m\u001b[0m\n\u001b[0;32m    972\u001b[0m         \u001b[1;32melse\u001b[0m\u001b[1;33m:\u001b[0m\u001b[1;33m\u001b[0m\u001b[1;33m\u001b[0m\u001b[0m\n",
      "\u001b[1;32m~\\anaconda3\\lib\\site-packages\\IPython\\core\\display.py\u001b[0m in \u001b[0;36m_repr_mimebundle_\u001b[1;34m(self, include, exclude)\u001b[0m\n\u001b[0;32m   1281\u001b[0m         \u001b[1;32mif\u001b[0m \u001b[0mself\u001b[0m\u001b[1;33m.\u001b[0m\u001b[0membed\u001b[0m\u001b[1;33m:\u001b[0m\u001b[1;33m\u001b[0m\u001b[1;33m\u001b[0m\u001b[0m\n\u001b[0;32m   1282\u001b[0m             \u001b[0mmimetype\u001b[0m \u001b[1;33m=\u001b[0m \u001b[0mself\u001b[0m\u001b[1;33m.\u001b[0m\u001b[0m_mimetype\u001b[0m\u001b[1;33m\u001b[0m\u001b[1;33m\u001b[0m\u001b[0m\n\u001b[1;32m-> 1283\u001b[1;33m             \u001b[0mdata\u001b[0m\u001b[1;33m,\u001b[0m \u001b[0mmetadata\u001b[0m \u001b[1;33m=\u001b[0m \u001b[0mself\u001b[0m\u001b[1;33m.\u001b[0m\u001b[0m_data_and_metadata\u001b[0m\u001b[1;33m(\u001b[0m\u001b[0malways_both\u001b[0m\u001b[1;33m=\u001b[0m\u001b[1;32mTrue\u001b[0m\u001b[1;33m)\u001b[0m\u001b[1;33m\u001b[0m\u001b[1;33m\u001b[0m\u001b[0m\n\u001b[0m\u001b[0;32m   1284\u001b[0m             \u001b[1;32mif\u001b[0m \u001b[0mmetadata\u001b[0m\u001b[1;33m:\u001b[0m\u001b[1;33m\u001b[0m\u001b[1;33m\u001b[0m\u001b[0m\n\u001b[0;32m   1285\u001b[0m                 \u001b[0mmetadata\u001b[0m \u001b[1;33m=\u001b[0m \u001b[1;33m{\u001b[0m\u001b[0mmimetype\u001b[0m\u001b[1;33m:\u001b[0m \u001b[0mmetadata\u001b[0m\u001b[1;33m}\u001b[0m\u001b[1;33m\u001b[0m\u001b[1;33m\u001b[0m\u001b[0m\n",
      "\u001b[1;32m~\\anaconda3\\lib\\site-packages\\IPython\\core\\display.py\u001b[0m in \u001b[0;36m_data_and_metadata\u001b[1;34m(self, always_both)\u001b[0m\n\u001b[0;32m   1294\u001b[0m         \u001b[1;32mexcept\u001b[0m \u001b[0mTypeError\u001b[0m\u001b[1;33m:\u001b[0m\u001b[1;33m\u001b[0m\u001b[1;33m\u001b[0m\u001b[0m\n\u001b[0;32m   1295\u001b[0m             raise FileNotFoundError(\n\u001b[1;32m-> 1296\u001b[1;33m                 \"No such file or directory: '%s'\" % (self.data))\n\u001b[0m\u001b[0;32m   1297\u001b[0m         \u001b[0mmd\u001b[0m \u001b[1;33m=\u001b[0m \u001b[1;33m{\u001b[0m\u001b[1;33m}\u001b[0m\u001b[1;33m\u001b[0m\u001b[1;33m\u001b[0m\u001b[0m\n\u001b[0;32m   1298\u001b[0m         \u001b[1;32mif\u001b[0m \u001b[0mself\u001b[0m\u001b[1;33m.\u001b[0m\u001b[0mmetadata\u001b[0m\u001b[1;33m:\u001b[0m\u001b[1;33m\u001b[0m\u001b[1;33m\u001b[0m\u001b[0m\n",
      "\u001b[1;31mFileNotFoundError\u001b[0m: No such file or directory: 'image_myself/image1.jpg'"
     ]
    },
    {
     "ename": "FileNotFoundError",
     "evalue": "No such file or directory: 'image_myself/image1.jpg'",
     "output_type": "error",
     "traceback": [
      "\u001b[1;31m---------------------------------------------------------------------------\u001b[0m",
      "\u001b[1;31mTypeError\u001b[0m                                 Traceback (most recent call last)",
      "\u001b[1;32m~\\anaconda3\\lib\\site-packages\\IPython\\core\\display.py\u001b[0m in \u001b[0;36m_data_and_metadata\u001b[1;34m(self, always_both)\u001b[0m\n\u001b[0;32m   1292\u001b[0m         \u001b[1;32mtry\u001b[0m\u001b[1;33m:\u001b[0m\u001b[1;33m\u001b[0m\u001b[1;33m\u001b[0m\u001b[0m\n\u001b[1;32m-> 1293\u001b[1;33m             \u001b[0mb64_data\u001b[0m \u001b[1;33m=\u001b[0m \u001b[0mb2a_base64\u001b[0m\u001b[1;33m(\u001b[0m\u001b[0mself\u001b[0m\u001b[1;33m.\u001b[0m\u001b[0mdata\u001b[0m\u001b[1;33m)\u001b[0m\u001b[1;33m.\u001b[0m\u001b[0mdecode\u001b[0m\u001b[1;33m(\u001b[0m\u001b[1;34m'ascii'\u001b[0m\u001b[1;33m)\u001b[0m\u001b[1;33m\u001b[0m\u001b[1;33m\u001b[0m\u001b[0m\n\u001b[0m\u001b[0;32m   1294\u001b[0m         \u001b[1;32mexcept\u001b[0m \u001b[0mTypeError\u001b[0m\u001b[1;33m:\u001b[0m\u001b[1;33m\u001b[0m\u001b[1;33m\u001b[0m\u001b[0m\n",
      "\u001b[1;31mTypeError\u001b[0m: a bytes-like object is required, not 'str'",
      "\nDuring handling of the above exception, another exception occurred:\n",
      "\u001b[1;31mFileNotFoundError\u001b[0m                         Traceback (most recent call last)",
      "\u001b[1;32m~\\anaconda3\\lib\\site-packages\\IPython\\core\\formatters.py\u001b[0m in \u001b[0;36m__call__\u001b[1;34m(self, obj)\u001b[0m\n\u001b[0;32m    343\u001b[0m             \u001b[0mmethod\u001b[0m \u001b[1;33m=\u001b[0m \u001b[0mget_real_method\u001b[0m\u001b[1;33m(\u001b[0m\u001b[0mobj\u001b[0m\u001b[1;33m,\u001b[0m \u001b[0mself\u001b[0m\u001b[1;33m.\u001b[0m\u001b[0mprint_method\u001b[0m\u001b[1;33m)\u001b[0m\u001b[1;33m\u001b[0m\u001b[1;33m\u001b[0m\u001b[0m\n\u001b[0;32m    344\u001b[0m             \u001b[1;32mif\u001b[0m \u001b[0mmethod\u001b[0m \u001b[1;32mis\u001b[0m \u001b[1;32mnot\u001b[0m \u001b[1;32mNone\u001b[0m\u001b[1;33m:\u001b[0m\u001b[1;33m\u001b[0m\u001b[1;33m\u001b[0m\u001b[0m\n\u001b[1;32m--> 345\u001b[1;33m                 \u001b[1;32mreturn\u001b[0m \u001b[0mmethod\u001b[0m\u001b[1;33m(\u001b[0m\u001b[1;33m)\u001b[0m\u001b[1;33m\u001b[0m\u001b[1;33m\u001b[0m\u001b[0m\n\u001b[0m\u001b[0;32m    346\u001b[0m             \u001b[1;32mreturn\u001b[0m \u001b[1;32mNone\u001b[0m\u001b[1;33m\u001b[0m\u001b[1;33m\u001b[0m\u001b[0m\n\u001b[0;32m    347\u001b[0m         \u001b[1;32melse\u001b[0m\u001b[1;33m:\u001b[0m\u001b[1;33m\u001b[0m\u001b[1;33m\u001b[0m\u001b[0m\n",
      "\u001b[1;32m~\\anaconda3\\lib\\site-packages\\IPython\\core\\display.py\u001b[0m in \u001b[0;36m_repr_png_\u001b[1;34m(self)\u001b[0m\n\u001b[0;32m   1311\u001b[0m     \u001b[1;32mdef\u001b[0m \u001b[0m_repr_png_\u001b[0m\u001b[1;33m(\u001b[0m\u001b[0mself\u001b[0m\u001b[1;33m)\u001b[0m\u001b[1;33m:\u001b[0m\u001b[1;33m\u001b[0m\u001b[1;33m\u001b[0m\u001b[0m\n\u001b[0;32m   1312\u001b[0m         \u001b[1;32mif\u001b[0m \u001b[0mself\u001b[0m\u001b[1;33m.\u001b[0m\u001b[0membed\u001b[0m \u001b[1;32mand\u001b[0m \u001b[0mself\u001b[0m\u001b[1;33m.\u001b[0m\u001b[0mformat\u001b[0m \u001b[1;33m==\u001b[0m \u001b[0mself\u001b[0m\u001b[1;33m.\u001b[0m\u001b[0m_FMT_PNG\u001b[0m\u001b[1;33m:\u001b[0m\u001b[1;33m\u001b[0m\u001b[1;33m\u001b[0m\u001b[0m\n\u001b[1;32m-> 1313\u001b[1;33m             \u001b[1;32mreturn\u001b[0m \u001b[0mself\u001b[0m\u001b[1;33m.\u001b[0m\u001b[0m_data_and_metadata\u001b[0m\u001b[1;33m(\u001b[0m\u001b[1;33m)\u001b[0m\u001b[1;33m\u001b[0m\u001b[1;33m\u001b[0m\u001b[0m\n\u001b[0m\u001b[0;32m   1314\u001b[0m \u001b[1;33m\u001b[0m\u001b[0m\n\u001b[0;32m   1315\u001b[0m     \u001b[1;32mdef\u001b[0m \u001b[0m_repr_jpeg_\u001b[0m\u001b[1;33m(\u001b[0m\u001b[0mself\u001b[0m\u001b[1;33m)\u001b[0m\u001b[1;33m:\u001b[0m\u001b[1;33m\u001b[0m\u001b[1;33m\u001b[0m\u001b[0m\n",
      "\u001b[1;32m~\\anaconda3\\lib\\site-packages\\IPython\\core\\display.py\u001b[0m in \u001b[0;36m_data_and_metadata\u001b[1;34m(self, always_both)\u001b[0m\n\u001b[0;32m   1294\u001b[0m         \u001b[1;32mexcept\u001b[0m \u001b[0mTypeError\u001b[0m\u001b[1;33m:\u001b[0m\u001b[1;33m\u001b[0m\u001b[1;33m\u001b[0m\u001b[0m\n\u001b[0;32m   1295\u001b[0m             raise FileNotFoundError(\n\u001b[1;32m-> 1296\u001b[1;33m                 \"No such file or directory: '%s'\" % (self.data))\n\u001b[0m\u001b[0;32m   1297\u001b[0m         \u001b[0mmd\u001b[0m \u001b[1;33m=\u001b[0m \u001b[1;33m{\u001b[0m\u001b[1;33m}\u001b[0m\u001b[1;33m\u001b[0m\u001b[1;33m\u001b[0m\u001b[0m\n\u001b[0;32m   1298\u001b[0m         \u001b[1;32mif\u001b[0m \u001b[0mself\u001b[0m\u001b[1;33m.\u001b[0m\u001b[0mmetadata\u001b[0m\u001b[1;33m:\u001b[0m\u001b[1;33m\u001b[0m\u001b[1;33m\u001b[0m\u001b[0m\n",
      "\u001b[1;31mFileNotFoundError\u001b[0m: No such file or directory: 'image_myself/image1.jpg'"
     ]
    },
    {
     "data": {
      "text/plain": [
       "<IPython.core.display.Image object>"
      ]
     },
     "metadata": {},
     "output_type": "display_data"
    },
    {
     "ename": "FileNotFoundError",
     "evalue": "[Errno 2] No such file or directory: 'image_myself/image1.jpg'",
     "output_type": "error",
     "traceback": [
      "\u001b[1;31m---------------------------------------------------------------------------\u001b[0m",
      "\u001b[1;31mFileNotFoundError\u001b[0m                         Traceback (most recent call last)",
      "\u001b[1;32m<ipython-input-52-8a90100ab04a>\u001b[0m in \u001b[0;36m<module>\u001b[1;34m\u001b[0m\n\u001b[1;32m----> 1\u001b[1;33m \u001b[0mweb_app\u001b[0m\u001b[1;33m(\u001b[0m\u001b[1;34m'image_myself/image1.jpg'\u001b[0m\u001b[1;33m)\u001b[0m\u001b[1;33m\u001b[0m\u001b[1;33m\u001b[0m\u001b[0m\n\u001b[0m\u001b[0;32m      2\u001b[0m \u001b[0mweb_app\u001b[0m\u001b[1;33m(\u001b[0m\u001b[1;34m'image_myself/image2.jpg'\u001b[0m\u001b[1;33m)\u001b[0m\u001b[1;33m\u001b[0m\u001b[1;33m\u001b[0m\u001b[0m\n\u001b[0;32m      3\u001b[0m \u001b[0mweb_app\u001b[0m\u001b[1;33m(\u001b[0m\u001b[1;34m'image_myself/image3.jpg'\u001b[0m\u001b[1;33m)\u001b[0m\u001b[1;33m\u001b[0m\u001b[1;33m\u001b[0m\u001b[0m\n\u001b[0;32m      4\u001b[0m \u001b[0mweb_app\u001b[0m\u001b[1;33m(\u001b[0m\u001b[1;34m'image_myself/image4.jpg'\u001b[0m\u001b[1;33m)\u001b[0m\u001b[1;33m\u001b[0m\u001b[1;33m\u001b[0m\u001b[0m\n\u001b[0;32m      5\u001b[0m \u001b[0mweb_app\u001b[0m\u001b[1;33m(\u001b[0m\u001b[1;34m'image_myself/image5.jpg'\u001b[0m\u001b[1;33m)\u001b[0m\u001b[1;33m\u001b[0m\u001b[1;33m\u001b[0m\u001b[0m\n",
      "\u001b[1;32m<ipython-input-51-99b09b4487e0>\u001b[0m in \u001b[0;36mweb_app\u001b[1;34m(img_path)\u001b[0m\n\u001b[0;32m     13\u001b[0m     \"\"\"\n\u001b[0;32m     14\u001b[0m     \u001b[0mdisplay\u001b[0m\u001b[1;33m(\u001b[0m\u001b[0mImage\u001b[0m\u001b[1;33m(\u001b[0m\u001b[0mimg_path\u001b[0m\u001b[1;33m,\u001b[0m \u001b[0mwidth\u001b[0m\u001b[1;33m=\u001b[0m\u001b[1;36m224\u001b[0m\u001b[1;33m,\u001b[0m \u001b[0mheight\u001b[0m\u001b[1;33m=\u001b[0m\u001b[1;36m224\u001b[0m\u001b[1;33m)\u001b[0m\u001b[1;33m)\u001b[0m\u001b[1;33m\u001b[0m\u001b[1;33m\u001b[0m\u001b[0m\n\u001b[1;32m---> 15\u001b[1;33m     \u001b[1;32mif\u001b[0m \u001b[0mdog_detector\u001b[0m\u001b[1;33m(\u001b[0m\u001b[0mimg_path\u001b[0m\u001b[1;33m)\u001b[0m\u001b[1;33m:\u001b[0m\u001b[1;33m\u001b[0m\u001b[1;33m\u001b[0m\u001b[0m\n\u001b[0m\u001b[0;32m     16\u001b[0m         \u001b[0mprint\u001b[0m\u001b[1;33m(\u001b[0m\u001b[1;34mf'This doggo looks like {Xception_predict_breed(img_path)}'\u001b[0m\u001b[1;33m)\u001b[0m\u001b[1;33m\u001b[0m\u001b[1;33m\u001b[0m\u001b[0m\n\u001b[0;32m     17\u001b[0m     \u001b[1;32melif\u001b[0m \u001b[0mface_detector\u001b[0m\u001b[1;33m(\u001b[0m\u001b[0mimg_path\u001b[0m\u001b[1;33m)\u001b[0m\u001b[1;33m:\u001b[0m\u001b[1;33m\u001b[0m\u001b[1;33m\u001b[0m\u001b[0m\n",
      "\u001b[1;32m<ipython-input-17-4f4e7e923147>\u001b[0m in \u001b[0;36mdog_detector\u001b[1;34m(img_path)\u001b[0m\n\u001b[0;32m     10\u001b[0m     \u001b[1;32mTrue\u001b[0m \u001b[1;32mor\u001b[0m \u001b[1;32mFalse\u001b[0m \u001b[0mrepresenting\u001b[0m \u001b[0mwhether\u001b[0m \u001b[0ma\u001b[0m \u001b[0mdog\u001b[0m \u001b[1;32mis\u001b[0m \u001b[0mdetected\u001b[0m \u001b[1;32min\u001b[0m \u001b[0mthe\u001b[0m \u001b[0mimage\u001b[0m \u001b[1;32mor\u001b[0m \u001b[1;32mnot\u001b[0m\u001b[1;33m\u001b[0m\u001b[1;33m\u001b[0m\u001b[0m\n\u001b[0;32m     11\u001b[0m     \"\"\"\n\u001b[1;32m---> 12\u001b[1;33m     \u001b[0mprediction\u001b[0m \u001b[1;33m=\u001b[0m \u001b[0mResNet50_predict_labels\u001b[0m\u001b[1;33m(\u001b[0m\u001b[0mimg_path\u001b[0m\u001b[1;33m)\u001b[0m\u001b[1;33m\u001b[0m\u001b[1;33m\u001b[0m\u001b[0m\n\u001b[0m\u001b[0;32m     13\u001b[0m     \u001b[1;32mreturn\u001b[0m \u001b[1;33m(\u001b[0m\u001b[1;33m(\u001b[0m\u001b[0mprediction\u001b[0m \u001b[1;33m<=\u001b[0m \u001b[1;36m268\u001b[0m\u001b[1;33m)\u001b[0m \u001b[1;33m&\u001b[0m \u001b[1;33m(\u001b[0m\u001b[0mprediction\u001b[0m \u001b[1;33m>=\u001b[0m \u001b[1;36m151\u001b[0m\u001b[1;33m)\u001b[0m\u001b[1;33m)\u001b[0m\u001b[1;33m\u001b[0m\u001b[1;33m\u001b[0m\u001b[0m\n",
      "\u001b[1;32m<ipython-input-16-188c3b42bd20>\u001b[0m in \u001b[0;36mResNet50_predict_labels\u001b[1;34m(img_path)\u001b[0m\n\u001b[0;32m     13\u001b[0m     \u001b[0mprediction\u001b[0m \u001b[0mvector\u001b[0m \u001b[1;32mfor\u001b[0m \u001b[0mimage\u001b[0m \u001b[0mlocated\u001b[0m \u001b[0mat\u001b[0m \u001b[0mimg_path\u001b[0m\u001b[1;33m\u001b[0m\u001b[1;33m\u001b[0m\u001b[0m\n\u001b[0;32m     14\u001b[0m     \"\"\"\n\u001b[1;32m---> 15\u001b[1;33m     \u001b[0mimg\u001b[0m \u001b[1;33m=\u001b[0m \u001b[0mpreprocess_input\u001b[0m\u001b[1;33m(\u001b[0m\u001b[0mpath_to_tensor\u001b[0m\u001b[1;33m(\u001b[0m\u001b[0mimg_path\u001b[0m\u001b[1;33m)\u001b[0m\u001b[1;33m)\u001b[0m\u001b[1;33m\u001b[0m\u001b[1;33m\u001b[0m\u001b[0m\n\u001b[0m\u001b[0;32m     16\u001b[0m     \u001b[1;32mreturn\u001b[0m \u001b[0mnp\u001b[0m\u001b[1;33m.\u001b[0m\u001b[0margmax\u001b[0m\u001b[1;33m(\u001b[0m\u001b[0mResNet50_model\u001b[0m\u001b[1;33m.\u001b[0m\u001b[0mpredict\u001b[0m\u001b[1;33m(\u001b[0m\u001b[0mimg\u001b[0m\u001b[1;33m)\u001b[0m\u001b[1;33m)\u001b[0m\u001b[1;33m\u001b[0m\u001b[1;33m\u001b[0m\u001b[0m\n",
      "\u001b[1;32m<ipython-input-15-98572e042ba4>\u001b[0m in \u001b[0;36mpath_to_tensor\u001b[1;34m(img_path)\u001b[0m\n\u001b[0;32m     14\u001b[0m     \"\"\"\n\u001b[0;32m     15\u001b[0m     \u001b[1;31m# loads RGB image as PIL.Image.Image type\u001b[0m\u001b[1;33m\u001b[0m\u001b[1;33m\u001b[0m\u001b[1;33m\u001b[0m\u001b[0m\n\u001b[1;32m---> 16\u001b[1;33m     \u001b[0mimg\u001b[0m \u001b[1;33m=\u001b[0m \u001b[0mimage\u001b[0m\u001b[1;33m.\u001b[0m\u001b[0mload_img\u001b[0m\u001b[1;33m(\u001b[0m\u001b[0mimg_path\u001b[0m\u001b[1;33m,\u001b[0m \u001b[0mtarget_size\u001b[0m\u001b[1;33m=\u001b[0m\u001b[1;33m(\u001b[0m\u001b[1;36m224\u001b[0m\u001b[1;33m,\u001b[0m \u001b[1;36m224\u001b[0m\u001b[1;33m)\u001b[0m\u001b[1;33m)\u001b[0m\u001b[1;33m\u001b[0m\u001b[1;33m\u001b[0m\u001b[0m\n\u001b[0m\u001b[0;32m     17\u001b[0m     \u001b[1;31m# convert PIL.Image.Image type to 3D tensor with shape (224, 224, 3)\u001b[0m\u001b[1;33m\u001b[0m\u001b[1;33m\u001b[0m\u001b[1;33m\u001b[0m\u001b[0m\n\u001b[0;32m     18\u001b[0m     \u001b[0mx\u001b[0m \u001b[1;33m=\u001b[0m \u001b[0mimage\u001b[0m\u001b[1;33m.\u001b[0m\u001b[0mimg_to_array\u001b[0m\u001b[1;33m(\u001b[0m\u001b[0mimg\u001b[0m\u001b[1;33m)\u001b[0m\u001b[1;33m\u001b[0m\u001b[1;33m\u001b[0m\u001b[0m\n",
      "\u001b[1;32m~\\anaconda3\\lib\\site-packages\\keras_preprocessing\\image\\utils.py\u001b[0m in \u001b[0;36mload_img\u001b[1;34m(path, grayscale, color_mode, target_size, interpolation)\u001b[0m\n\u001b[0;32m    108\u001b[0m         raise ImportError('Could not import PIL.Image. '\n\u001b[0;32m    109\u001b[0m                           'The use of `load_img` requires PIL.')\n\u001b[1;32m--> 110\u001b[1;33m     \u001b[0mimg\u001b[0m \u001b[1;33m=\u001b[0m \u001b[0mpil_image\u001b[0m\u001b[1;33m.\u001b[0m\u001b[0mopen\u001b[0m\u001b[1;33m(\u001b[0m\u001b[0mpath\u001b[0m\u001b[1;33m)\u001b[0m\u001b[1;33m\u001b[0m\u001b[1;33m\u001b[0m\u001b[0m\n\u001b[0m\u001b[0;32m    111\u001b[0m     \u001b[1;32mif\u001b[0m \u001b[0mcolor_mode\u001b[0m \u001b[1;33m==\u001b[0m \u001b[1;34m'grayscale'\u001b[0m\u001b[1;33m:\u001b[0m\u001b[1;33m\u001b[0m\u001b[1;33m\u001b[0m\u001b[0m\n\u001b[0;32m    112\u001b[0m         \u001b[1;32mif\u001b[0m \u001b[0mimg\u001b[0m\u001b[1;33m.\u001b[0m\u001b[0mmode\u001b[0m \u001b[1;33m!=\u001b[0m \u001b[1;34m'L'\u001b[0m\u001b[1;33m:\u001b[0m\u001b[1;33m\u001b[0m\u001b[1;33m\u001b[0m\u001b[0m\n",
      "\u001b[1;32m~\\anaconda3\\lib\\site-packages\\PIL\\Image.py\u001b[0m in \u001b[0;36mopen\u001b[1;34m(fp, mode)\u001b[0m\n\u001b[0;32m   2841\u001b[0m \u001b[1;33m\u001b[0m\u001b[0m\n\u001b[0;32m   2842\u001b[0m     \u001b[1;32mif\u001b[0m \u001b[0mfilename\u001b[0m\u001b[1;33m:\u001b[0m\u001b[1;33m\u001b[0m\u001b[1;33m\u001b[0m\u001b[0m\n\u001b[1;32m-> 2843\u001b[1;33m         \u001b[0mfp\u001b[0m \u001b[1;33m=\u001b[0m \u001b[0mbuiltins\u001b[0m\u001b[1;33m.\u001b[0m\u001b[0mopen\u001b[0m\u001b[1;33m(\u001b[0m\u001b[0mfilename\u001b[0m\u001b[1;33m,\u001b[0m \u001b[1;34m\"rb\"\u001b[0m\u001b[1;33m)\u001b[0m\u001b[1;33m\u001b[0m\u001b[1;33m\u001b[0m\u001b[0m\n\u001b[0m\u001b[0;32m   2844\u001b[0m         \u001b[0mexclusive_fp\u001b[0m \u001b[1;33m=\u001b[0m \u001b[1;32mTrue\u001b[0m\u001b[1;33m\u001b[0m\u001b[1;33m\u001b[0m\u001b[0m\n\u001b[0;32m   2845\u001b[0m \u001b[1;33m\u001b[0m\u001b[0m\n",
      "\u001b[1;31mFileNotFoundError\u001b[0m: [Errno 2] No such file or directory: 'image_myself/image1.jpg'"
     ]
    }
   ],
   "source": [
    "web_app('image_myself/image1.jpg')\n",
    "web_app('image_myself/image2.jpg')\n",
    "web_app('image_myself/image3.jpg')\n",
    "web_app('image_myself/image4.jpg')\n",
    "web_app('image_myself/image5.jpg')\n",
    "web_app('image_myself/image6.jpg')\n",
    "web_app('image_myself/image7.jpg')"
   ]
  },
  {
   "cell_type": "code",
   "execution_count": null,
   "metadata": {},
   "outputs": [],
   "source": []
  }
 ],
 "metadata": {
  "anaconda-cloud": {},
  "kernelspec": {
   "display_name": "Python 3.7.6 64-bit ('base': conda)",
   "language": "python",
   "name": "python37664bitbaseconda67530c51717b4ee0a97a2605318e5271"
  },
  "language_info": {
   "codemirror_mode": {
    "name": "ipython",
    "version": 3
   },
   "file_extension": ".py",
   "mimetype": "text/x-python",
   "name": "python",
   "nbconvert_exporter": "python",
   "pygments_lexer": "ipython3",
   "version": "3.7.6"
  }
 },
 "nbformat": 4,
 "nbformat_minor": 1
}
